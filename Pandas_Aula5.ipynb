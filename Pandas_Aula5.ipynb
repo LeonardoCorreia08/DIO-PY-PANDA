{
 "cells": [
  {
   "cell_type": "code",
   "execution_count": 1,
   "metadata": {
    "executionInfo": {
     "elapsed": 229,
     "status": "ok",
     "timestamp": 1631137643751,
     "user": {
      "displayName": "Fernando Alves da Silva",
      "photoUrl": "https://lh3.googleusercontent.com/a-/AOh14GhKTiasYPw6kBHmMeB6q80p-_rAc2K4AVgs6vVCFA=s64",
      "userId": "04389003071277076505"
     },
     "user_tz": 180
    },
    "id": "z7Z39bQIYJGs"
   },
   "outputs": [],
   "source": [
    "import pandas as pd"
   ]
  },
  {
   "cell_type": "code",
   "execution_count": 2,
   "metadata": {
    "executionInfo": {
     "elapsed": 305,
     "status": "ok",
     "timestamp": 1631137730489,
     "user": {
      "displayName": "Fernando Alves da Silva",
      "photoUrl": "https://lh3.googleusercontent.com/a-/AOh14GhKTiasYPw6kBHmMeB6q80p-_rAc2K4AVgs6vVCFA=s64",
      "userId": "04389003071277076505"
     },
     "user_tz": 180
    },
    "id": "QQnzyLQsYTqL"
   },
   "outputs": [],
   "source": [
    "#Leitura a biblioteca\n",
    "df1 = pd.read_excel('Aracaju.xlsx')\n",
    "df2 = pd.read_excel('Fortaleza.xlsx')\n",
    "df3 = pd.read_excel('Natal.xlsx')\n",
    "df4 = pd.read_excel('Recife.xlsx')\n",
    "df5 = pd.read_excel('Salvador.xlsx')"
   ]
  },
  {
   "cell_type": "code",
   "execution_count": 3,
   "metadata": {
    "executionInfo": {
     "elapsed": 234,
     "status": "ok",
     "timestamp": 1631137782185,
     "user": {
      "displayName": "Fernando Alves da Silva",
      "photoUrl": "https://lh3.googleusercontent.com/a-/AOh14GhKTiasYPw6kBHmMeB6q80p-_rAc2K4AVgs6vVCFA=s64",
      "userId": "04389003071277076505"
     },
     "user_tz": 180
    },
    "id": "ZunapNjsYo0V"
   },
   "outputs": [],
   "source": [
    "#Juntando todos os arquivos\n",
    "df = pd.concat([df1,df2,df3,df4,df5,])"
   ]
  },
  {
   "cell_type": "code",
   "execution_count": 4,
   "metadata": {
    "colab": {
     "base_uri": "https://localhost:8080/",
     "height": 204
    },
    "executionInfo": {
     "elapsed": 246,
     "status": "ok",
     "timestamp": 1631137789532,
     "user": {
      "displayName": "Fernando Alves da Silva",
      "photoUrl": "https://lh3.googleusercontent.com/a-/AOh14GhKTiasYPw6kBHmMeB6q80p-_rAc2K4AVgs6vVCFA=s64",
      "userId": "04389003071277076505"
     },
     "user_tz": 180
    },
    "id": "LvuhhGMFYreD",
    "outputId": "e7ce2bd0-0649-409e-80ec-d684be4b35c3"
   },
   "outputs": [
    {
     "data": {
      "text/html": [
       "<div>\n",
       "<style scoped>\n",
       "    .dataframe tbody tr th:only-of-type {\n",
       "        vertical-align: middle;\n",
       "    }\n",
       "\n",
       "    .dataframe tbody tr th {\n",
       "        vertical-align: top;\n",
       "    }\n",
       "\n",
       "    .dataframe thead th {\n",
       "        text-align: right;\n",
       "    }\n",
       "</style>\n",
       "<table border=\"1\" class=\"dataframe\">\n",
       "  <thead>\n",
       "    <tr style=\"text-align: right;\">\n",
       "      <th></th>\n",
       "      <th>Cidade</th>\n",
       "      <th>Data</th>\n",
       "      <th>Vendas</th>\n",
       "      <th>LojaID</th>\n",
       "      <th>Qtde</th>\n",
       "    </tr>\n",
       "  </thead>\n",
       "  <tbody>\n",
       "    <tr>\n",
       "      <th>0</th>\n",
       "      <td>Aracaju</td>\n",
       "      <td>2018-01-01</td>\n",
       "      <td>142.00</td>\n",
       "      <td>1520</td>\n",
       "      <td>1</td>\n",
       "    </tr>\n",
       "    <tr>\n",
       "      <th>1</th>\n",
       "      <td>Aracaju</td>\n",
       "      <td>2018-01-01</td>\n",
       "      <td>14.21</td>\n",
       "      <td>1522</td>\n",
       "      <td>6</td>\n",
       "    </tr>\n",
       "    <tr>\n",
       "      <th>2</th>\n",
       "      <td>Aracaju</td>\n",
       "      <td>2018-01-01</td>\n",
       "      <td>71.55</td>\n",
       "      <td>1520</td>\n",
       "      <td>1</td>\n",
       "    </tr>\n",
       "    <tr>\n",
       "      <th>3</th>\n",
       "      <td>Aracaju</td>\n",
       "      <td>2018-01-01</td>\n",
       "      <td>3.01</td>\n",
       "      <td>1521</td>\n",
       "      <td>7</td>\n",
       "    </tr>\n",
       "    <tr>\n",
       "      <th>4</th>\n",
       "      <td>Aracaju</td>\n",
       "      <td>2018-01-01</td>\n",
       "      <td>24.51</td>\n",
       "      <td>1522</td>\n",
       "      <td>8</td>\n",
       "    </tr>\n",
       "  </tbody>\n",
       "</table>\n",
       "</div>"
      ],
      "text/plain": [
       "    Cidade       Data  Vendas  LojaID  Qtde\n",
       "0  Aracaju 2018-01-01  142.00    1520     1\n",
       "1  Aracaju 2018-01-01   14.21    1522     6\n",
       "2  Aracaju 2018-01-01   71.55    1520     1\n",
       "3  Aracaju 2018-01-01    3.01    1521     7\n",
       "4  Aracaju 2018-01-01   24.51    1522     8"
      ]
     },
     "execution_count": 4,
     "metadata": {},
     "output_type": "execute_result"
    }
   ],
   "source": [
    "df.head()"
   ]
  },
  {
   "cell_type": "code",
   "execution_count": 6,
   "metadata": {
    "colab": {
     "base_uri": "https://localhost:8080/",
     "height": 204
    },
    "executionInfo": {
     "elapsed": 291,
     "status": "ok",
     "timestamp": 1631137804706,
     "user": {
      "displayName": "Fernando Alves da Silva",
      "photoUrl": "https://lh3.googleusercontent.com/a-/AOh14GhKTiasYPw6kBHmMeB6q80p-_rAc2K4AVgs6vVCFA=s64",
      "userId": "04389003071277076505"
     },
     "user_tz": 180
    },
    "id": "ayJhQktSY3N6",
    "outputId": "32827ef8-e5bd-4d69-f9c3-bc2d00047677"
   },
   "outputs": [
    {
     "data": {
      "text/html": [
       "<div>\n",
       "<style scoped>\n",
       "    .dataframe tbody tr th:only-of-type {\n",
       "        vertical-align: middle;\n",
       "    }\n",
       "\n",
       "    .dataframe tbody tr th {\n",
       "        vertical-align: top;\n",
       "    }\n",
       "\n",
       "    .dataframe thead th {\n",
       "        text-align: right;\n",
       "    }\n",
       "</style>\n",
       "<table border=\"1\" class=\"dataframe\">\n",
       "  <thead>\n",
       "    <tr style=\"text-align: right;\">\n",
       "      <th></th>\n",
       "      <th>Cidade</th>\n",
       "      <th>Data</th>\n",
       "      <th>Vendas</th>\n",
       "      <th>LojaID</th>\n",
       "      <th>Qtde</th>\n",
       "    </tr>\n",
       "  </thead>\n",
       "  <tbody>\n",
       "    <tr>\n",
       "      <th>235</th>\n",
       "      <td>Salvador</td>\n",
       "      <td>2019-01-03</td>\n",
       "      <td>41.84</td>\n",
       "      <td>1034</td>\n",
       "      <td>1</td>\n",
       "    </tr>\n",
       "    <tr>\n",
       "      <th>236</th>\n",
       "      <td>Salvador</td>\n",
       "      <td>2019-01-03</td>\n",
       "      <td>126.29</td>\n",
       "      <td>1035</td>\n",
       "      <td>3</td>\n",
       "    </tr>\n",
       "    <tr>\n",
       "      <th>237</th>\n",
       "      <td>Salvador</td>\n",
       "      <td>2019-01-03</td>\n",
       "      <td>38.06</td>\n",
       "      <td>1036</td>\n",
       "      <td>3</td>\n",
       "    </tr>\n",
       "    <tr>\n",
       "      <th>238</th>\n",
       "      <td>Salvador</td>\n",
       "      <td>2019-01-03</td>\n",
       "      <td>139.64</td>\n",
       "      <td>1035</td>\n",
       "      <td>1</td>\n",
       "    </tr>\n",
       "    <tr>\n",
       "      <th>239</th>\n",
       "      <td>Salvador</td>\n",
       "      <td>2019-01-03</td>\n",
       "      <td>161.41</td>\n",
       "      <td>1037</td>\n",
       "      <td>3</td>\n",
       "    </tr>\n",
       "  </tbody>\n",
       "</table>\n",
       "</div>"
      ],
      "text/plain": [
       "       Cidade       Data  Vendas  LojaID  Qtde\n",
       "235  Salvador 2019-01-03   41.84    1034     1\n",
       "236  Salvador 2019-01-03  126.29    1035     3\n",
       "237  Salvador 2019-01-03   38.06    1036     3\n",
       "238  Salvador 2019-01-03  139.64    1035     1\n",
       "239  Salvador 2019-01-03  161.41    1037     3"
      ]
     },
     "execution_count": 6,
     "metadata": {},
     "output_type": "execute_result"
    }
   ],
   "source": [
    "df.tail()"
   ]
  },
  {
   "cell_type": "code",
   "execution_count": 16,
   "metadata": {
    "colab": {
     "base_uri": "https://localhost:8080/",
     "height": 204
    },
    "executionInfo": {
     "elapsed": 348,
     "status": "ok",
     "timestamp": 1631138159876,
     "user": {
      "displayName": "Fernando Alves da Silva",
      "photoUrl": "https://lh3.googleusercontent.com/a-/AOh14GhKTiasYPw6kBHmMeB6q80p-_rAc2K4AVgs6vVCFA=s64",
      "userId": "04389003071277076505"
     },
     "user_tz": 180
    },
    "id": "L2ro0WBIZ1Df",
    "outputId": "413f0f46-bf3a-4333-beb4-d653bf67e109"
   },
   "outputs": [
    {
     "data": {
      "text/html": [
       "<div>\n",
       "<style scoped>\n",
       "    .dataframe tbody tr th:only-of-type {\n",
       "        vertical-align: middle;\n",
       "    }\n",
       "\n",
       "    .dataframe tbody tr th {\n",
       "        vertical-align: top;\n",
       "    }\n",
       "\n",
       "    .dataframe thead th {\n",
       "        text-align: right;\n",
       "    }\n",
       "</style>\n",
       "<table border=\"1\" class=\"dataframe\">\n",
       "  <thead>\n",
       "    <tr style=\"text-align: right;\">\n",
       "      <th></th>\n",
       "      <th>Cidade</th>\n",
       "      <th>Data</th>\n",
       "      <th>Vendas</th>\n",
       "      <th>LojaID</th>\n",
       "      <th>Qtde</th>\n",
       "    </tr>\n",
       "  </thead>\n",
       "  <tbody>\n",
       "    <tr>\n",
       "      <th>137</th>\n",
       "      <td>Salvador</td>\n",
       "      <td>2019-03-02</td>\n",
       "      <td>51.66</td>\n",
       "      <td>1036</td>\n",
       "      <td>3</td>\n",
       "    </tr>\n",
       "    <tr>\n",
       "      <th>114</th>\n",
       "      <td>Salvador</td>\n",
       "      <td>2019-03-02</td>\n",
       "      <td>25.52</td>\n",
       "      <td>1034</td>\n",
       "      <td>1</td>\n",
       "    </tr>\n",
       "    <tr>\n",
       "      <th>101</th>\n",
       "      <td>Natal</td>\n",
       "      <td>2019-01-02</td>\n",
       "      <td>32.28</td>\n",
       "      <td>1035</td>\n",
       "      <td>3</td>\n",
       "    </tr>\n",
       "    <tr>\n",
       "      <th>45</th>\n",
       "      <td>Natal</td>\n",
       "      <td>2019-03-11</td>\n",
       "      <td>431.00</td>\n",
       "      <td>852</td>\n",
       "      <td>3</td>\n",
       "    </tr>\n",
       "    <tr>\n",
       "      <th>38</th>\n",
       "      <td>Natal</td>\n",
       "      <td>2018-02-25</td>\n",
       "      <td>828.00</td>\n",
       "      <td>852</td>\n",
       "      <td>4</td>\n",
       "    </tr>\n",
       "  </tbody>\n",
       "</table>\n",
       "</div>"
      ],
      "text/plain": [
       "       Cidade       Data  Vendas LojaID  Qtde\n",
       "137  Salvador 2019-03-02   51.66   1036     3\n",
       "114  Salvador 2019-03-02   25.52   1034     1\n",
       "101     Natal 2019-01-02   32.28   1035     3\n",
       "45      Natal 2019-03-11  431.00    852     3\n",
       "38      Natal 2018-02-25  828.00    852     4"
      ]
     },
     "execution_count": 16,
     "metadata": {},
     "output_type": "execute_result"
    }
   ],
   "source": [
    "# Pega um exemplo de dados qtd 5\n",
    "#A cada execução ele altera\n",
    "df.sample(5)"
   ]
  },
  {
   "cell_type": "code",
   "execution_count": 7,
   "metadata": {
    "colab": {
     "base_uri": "https://localhost:8080/"
    },
    "executionInfo": {
     "elapsed": 437,
     "status": "ok",
     "timestamp": 1631137921870,
     "user": {
      "displayName": "Fernando Alves da Silva",
      "photoUrl": "https://lh3.googleusercontent.com/a-/AOh14GhKTiasYPw6kBHmMeB6q80p-_rAc2K4AVgs6vVCFA=s64",
      "userId": "04389003071277076505"
     },
     "user_tz": 180
    },
    "id": "RDad369xY67q",
    "outputId": "bd8234b7-44a6-467f-ce5a-6093c2d9f72f"
   },
   "outputs": [
    {
     "data": {
      "text/plain": [
       "Cidade            object\n",
       "Data      datetime64[ns]\n",
       "Vendas           float64\n",
       "LojaID             int64\n",
       "Qtde               int64\n",
       "dtype: object"
      ]
     },
     "execution_count": 7,
     "metadata": {},
     "output_type": "execute_result"
    }
   ],
   "source": [
    "df.dtypes"
   ]
  },
  {
   "cell_type": "code",
   "execution_count": 10,
   "metadata": {
    "executionInfo": {
     "elapsed": 226,
     "status": "ok",
     "timestamp": 1631137998537,
     "user": {
      "displayName": "Fernando Alves da Silva",
      "photoUrl": "https://lh3.googleusercontent.com/a-/AOh14GhKTiasYPw6kBHmMeB6q80p-_rAc2K4AVgs6vVCFA=s64",
      "userId": "04389003071277076505"
     },
     "user_tz": 180
    },
    "id": "F0cddLhwZXgV"
   },
   "outputs": [],
   "source": [
    "#Alterado o tipo de dado da coluna LojaID\n",
    "df['LojaID'] = df['LojaID'].astype(\"object\")"
   ]
  },
  {
   "cell_type": "code",
   "execution_count": 11,
   "metadata": {
    "colab": {
     "base_uri": "https://localhost:8080/"
    },
    "executionInfo": {
     "elapsed": 237,
     "status": "ok",
     "timestamp": 1631138004941,
     "user": {
      "displayName": "Fernando Alves da Silva",
      "photoUrl": "https://lh3.googleusercontent.com/a-/AOh14GhKTiasYPw6kBHmMeB6q80p-_rAc2K4AVgs6vVCFA=s64",
      "userId": "04389003071277076505"
     },
     "user_tz": 180
    },
    "id": "xYvX1HHZZhaM",
    "outputId": "4db7045b-4850-493f-8dbe-c644c00a45a3"
   },
   "outputs": [
    {
     "data": {
      "text/plain": [
       "Cidade            object\n",
       "Data      datetime64[ns]\n",
       "Vendas           float64\n",
       "LojaID            object\n",
       "Qtde               int64\n",
       "dtype: object"
      ]
     },
     "execution_count": 11,
     "metadata": {},
     "output_type": "execute_result"
    }
   ],
   "source": [
    "df.dtypes"
   ]
  },
  {
   "cell_type": "code",
   "execution_count": 18,
   "metadata": {
    "colab": {
     "base_uri": "https://localhost:8080/"
    },
    "executionInfo": {
     "elapsed": 308,
     "status": "ok",
     "timestamp": 1631138257709,
     "user": {
      "displayName": "Fernando Alves da Silva",
      "photoUrl": "https://lh3.googleusercontent.com/a-/AOh14GhKTiasYPw6kBHmMeB6q80p-_rAc2K4AVgs6vVCFA=s64",
      "userId": "04389003071277076505"
     },
     "user_tz": 180
    },
    "id": "WzC9-1_vZr1y",
    "outputId": "b1ad9d5d-7d5c-444c-bd88-efa0fcccc92e"
   },
   "outputs": [
    {
     "data": {
      "text/plain": [
       "Cidade    0\n",
       "Data      0\n",
       "Vendas    0\n",
       "LojaID    0\n",
       "Qtde      0\n",
       "dtype: int64"
      ]
     },
     "execution_count": 18,
     "metadata": {},
     "output_type": "execute_result"
    }
   ],
   "source": [
    "#Consultando linhas com valores faltantes\n",
    "df.isnull().sum()"
   ]
  },
  {
   "cell_type": "code",
   "execution_count": 19,
   "metadata": {
    "executionInfo": {
     "elapsed": 266,
     "status": "ok",
     "timestamp": 1631138356420,
     "user": {
      "displayName": "Fernando Alves da Silva",
      "photoUrl": "https://lh3.googleusercontent.com/a-/AOh14GhKTiasYPw6kBHmMeB6q80p-_rAc2K4AVgs6vVCFA=s64",
      "userId": "04389003071277076505"
     },
     "user_tz": 180
    },
    "id": "5B_e4g7ganhy"
   },
   "outputs": [],
   "source": [
    "#Substituindo os valores nulos pela média\n",
    "df['Vendas'].fillna(df['Vendas'].mean(), inplace=True)"
   ]
  },
  {
   "cell_type": "code",
   "execution_count": 20,
   "metadata": {
    "colab": {
     "base_uri": "https://localhost:8080/"
    },
    "executionInfo": {
     "elapsed": 7,
     "status": "ok",
     "timestamp": 1631138378439,
     "user": {
      "displayName": "Fernando Alves da Silva",
      "photoUrl": "https://lh3.googleusercontent.com/a-/AOh14GhKTiasYPw6kBHmMeB6q80p-_rAc2K4AVgs6vVCFA=s64",
      "userId": "04389003071277076505"
     },
     "user_tz": 180
    },
    "id": "5JvcieiGbBpQ",
    "outputId": "392f24a4-8e0e-457c-e28d-01657082ae15"
   },
   "outputs": [
    {
     "data": {
      "text/plain": [
       "Cidade    0\n",
       "Data      0\n",
       "Vendas    0\n",
       "LojaID    0\n",
       "Qtde      0\n",
       "dtype: int64"
      ]
     },
     "execution_count": 20,
     "metadata": {},
     "output_type": "execute_result"
    }
   ],
   "source": [
    "df.isnull().sum()"
   ]
  },
  {
   "cell_type": "code",
   "execution_count": 21,
   "metadata": {
    "executionInfo": {
     "elapsed": 251,
     "status": "ok",
     "timestamp": 1631138442536,
     "user": {
      "displayName": "Fernando Alves da Silva",
      "photoUrl": "https://lh3.googleusercontent.com/a-/AOh14GhKTiasYPw6kBHmMeB6q80p-_rAc2K4AVgs6vVCFA=s64",
      "userId": "04389003071277076505"
     },
     "user_tz": 180
    },
    "id": "X3QPin9sbHDG"
   },
   "outputs": [],
   "source": [
    "#Substituindo os valores nulos por zero\n",
    "df['Vendas'].fillna(0, inplace=True)"
   ]
  },
  {
   "cell_type": "code",
   "execution_count": 23,
   "metadata": {
    "executionInfo": {
     "elapsed": 234,
     "status": "ok",
     "timestamp": 1631138589934,
     "user": {
      "displayName": "Fernando Alves da Silva",
      "photoUrl": "https://lh3.googleusercontent.com/a-/AOh14GhKTiasYPw6kBHmMeB6q80p-_rAc2K4AVgs6vVCFA=s64",
      "userId": "04389003071277076505"
     },
     "user_tz": 180
    },
    "id": "VbxmPDk8bWpR"
   },
   "outputs": [],
   "source": [
    "#Apagando os linhas com valores nulos\n",
    "df.dropna(inplace=True)\n"
   ]
  },
  {
   "cell_type": "code",
   "execution_count": 24,
   "metadata": {
    "executionInfo": {
     "elapsed": 234,
     "status": "ok",
     "timestamp": 1631138628328,
     "user": {
      "displayName": "Fernando Alves da Silva",
      "photoUrl": "https://lh3.googleusercontent.com/a-/AOh14GhKTiasYPw6kBHmMeB6q80p-_rAc2K4AVgs6vVCFA=s64",
      "userId": "04389003071277076505"
     },
     "user_tz": 180
    },
    "id": "8OQAMlDdbxEG"
   },
   "outputs": [],
   "source": [
    "#Apagando as lnhas com valoes nulos com base apenas em 1 colina\n",
    "df.dropna(subset=['Vendas'], inplace=True)"
   ]
  },
  {
   "cell_type": "code",
   "execution_count": 25,
   "metadata": {
    "executionInfo": {
     "elapsed": 231,
     "status": "ok",
     "timestamp": 1631138682963,
     "user": {
      "displayName": "Fernando Alves da Silva",
      "photoUrl": "https://lh3.googleusercontent.com/a-/AOh14GhKTiasYPw6kBHmMeB6q80p-_rAc2K4AVgs6vVCFA=s64",
      "userId": "04389003071277076505"
     },
     "user_tz": 180
    },
    "id": "-OSX_CPscEBx"
   },
   "outputs": [],
   "source": [
    "#Removendo linhas com estejam com valoes faltantes em todas as colunas\n",
    "df.dropna(how='all', inplace=True)"
   ]
  },
  {
   "cell_type": "markdown",
   "metadata": {
    "id": "x0RjNKdoccdY"
   },
   "source": [
    "**Criando colunas novas**"
   ]
  },
  {
   "cell_type": "code",
   "execution_count": 28,
   "metadata": {
    "executionInfo": {
     "elapsed": 230,
     "status": "ok",
     "timestamp": 1631138882796,
     "user": {
      "displayName": "Fernando Alves da Silva",
      "photoUrl": "https://lh3.googleusercontent.com/a-/AOh14GhKTiasYPw6kBHmMeB6q80p-_rAc2K4AVgs6vVCFA=s64",
      "userId": "04389003071277076505"
     },
     "user_tz": 180
    },
    "id": "JzmRzvAbciRd"
   },
   "outputs": [],
   "source": [
    "#Criando a coluna de receita\n",
    "df['Receita'] = df['Vendas'].mul(df['Qtde'])"
   ]
  },
  {
   "cell_type": "code",
   "execution_count": 29,
   "metadata": {
    "colab": {
     "base_uri": "https://localhost:8080/",
     "height": 204
    },
    "executionInfo": {
     "elapsed": 242,
     "status": "ok",
     "timestamp": 1631138894423,
     "user": {
      "displayName": "Fernando Alves da Silva",
      "photoUrl": "https://lh3.googleusercontent.com/a-/AOh14GhKTiasYPw6kBHmMeB6q80p-_rAc2K4AVgs6vVCFA=s64",
      "userId": "04389003071277076505"
     },
     "user_tz": 180
    },
    "id": "7oEKLTk1cwRi",
    "outputId": "864353e7-fbe0-4b74-cac2-24806f2c8f72"
   },
   "outputs": [
    {
     "data": {
      "text/html": [
       "<div>\n",
       "<style scoped>\n",
       "    .dataframe tbody tr th:only-of-type {\n",
       "        vertical-align: middle;\n",
       "    }\n",
       "\n",
       "    .dataframe tbody tr th {\n",
       "        vertical-align: top;\n",
       "    }\n",
       "\n",
       "    .dataframe thead th {\n",
       "        text-align: right;\n",
       "    }\n",
       "</style>\n",
       "<table border=\"1\" class=\"dataframe\">\n",
       "  <thead>\n",
       "    <tr style=\"text-align: right;\">\n",
       "      <th></th>\n",
       "      <th>Cidade</th>\n",
       "      <th>Data</th>\n",
       "      <th>Vendas</th>\n",
       "      <th>LojaID</th>\n",
       "      <th>Qtde</th>\n",
       "      <th>Receita</th>\n",
       "    </tr>\n",
       "  </thead>\n",
       "  <tbody>\n",
       "    <tr>\n",
       "      <th>0</th>\n",
       "      <td>Aracaju</td>\n",
       "      <td>2018-01-01</td>\n",
       "      <td>142.00</td>\n",
       "      <td>1520</td>\n",
       "      <td>1</td>\n",
       "      <td>142.00</td>\n",
       "    </tr>\n",
       "    <tr>\n",
       "      <th>1</th>\n",
       "      <td>Aracaju</td>\n",
       "      <td>2018-01-01</td>\n",
       "      <td>14.21</td>\n",
       "      <td>1522</td>\n",
       "      <td>6</td>\n",
       "      <td>85.26</td>\n",
       "    </tr>\n",
       "    <tr>\n",
       "      <th>2</th>\n",
       "      <td>Aracaju</td>\n",
       "      <td>2018-01-01</td>\n",
       "      <td>71.55</td>\n",
       "      <td>1520</td>\n",
       "      <td>1</td>\n",
       "      <td>71.55</td>\n",
       "    </tr>\n",
       "    <tr>\n",
       "      <th>3</th>\n",
       "      <td>Aracaju</td>\n",
       "      <td>2018-01-01</td>\n",
       "      <td>3.01</td>\n",
       "      <td>1521</td>\n",
       "      <td>7</td>\n",
       "      <td>21.07</td>\n",
       "    </tr>\n",
       "    <tr>\n",
       "      <th>4</th>\n",
       "      <td>Aracaju</td>\n",
       "      <td>2018-01-01</td>\n",
       "      <td>24.51</td>\n",
       "      <td>1522</td>\n",
       "      <td>8</td>\n",
       "      <td>196.08</td>\n",
       "    </tr>\n",
       "  </tbody>\n",
       "</table>\n",
       "</div>"
      ],
      "text/plain": [
       "    Cidade       Data  Vendas LojaID  Qtde  Receita\n",
       "0  Aracaju 2018-01-01  142.00   1520     1   142.00\n",
       "1  Aracaju 2018-01-01   14.21   1522     6    85.26\n",
       "2  Aracaju 2018-01-01   71.55   1520     1    71.55\n",
       "3  Aracaju 2018-01-01    3.01   1521     7    21.07\n",
       "4  Aracaju 2018-01-01   24.51   1522     8   196.08"
      ]
     },
     "execution_count": 29,
     "metadata": {},
     "output_type": "execute_result"
    }
   ],
   "source": [
    "df.head()"
   ]
  },
  {
   "cell_type": "code",
   "execution_count": 30,
   "metadata": {
    "executionInfo": {
     "elapsed": 235,
     "status": "ok",
     "timestamp": 1631138939220,
     "user": {
      "displayName": "Fernando Alves da Silva",
      "photoUrl": "https://lh3.googleusercontent.com/a-/AOh14GhKTiasYPw6kBHmMeB6q80p-_rAc2K4AVgs6vVCFA=s64",
      "userId": "04389003071277076505"
     },
     "user_tz": 180
    },
    "id": "uzXU7pWRdE_h"
   },
   "outputs": [],
   "source": [
    "df[\"Receita/Vendas\"] = df[\"Receita\"] / df['Vendas']"
   ]
  },
  {
   "cell_type": "code",
   "execution_count": 31,
   "metadata": {
    "colab": {
     "base_uri": "https://localhost:8080/",
     "height": 204
    },
    "executionInfo": {
     "elapsed": 246,
     "status": "ok",
     "timestamp": 1631138947949,
     "user": {
      "displayName": "Fernando Alves da Silva",
      "photoUrl": "https://lh3.googleusercontent.com/a-/AOh14GhKTiasYPw6kBHmMeB6q80p-_rAc2K4AVgs6vVCFA=s64",
      "userId": "04389003071277076505"
     },
     "user_tz": 180
    },
    "id": "rV47LdTbdP76",
    "outputId": "c3f20c66-673e-4b1c-da96-b95a7dc029a1"
   },
   "outputs": [
    {
     "data": {
      "text/html": [
       "<div>\n",
       "<style scoped>\n",
       "    .dataframe tbody tr th:only-of-type {\n",
       "        vertical-align: middle;\n",
       "    }\n",
       "\n",
       "    .dataframe tbody tr th {\n",
       "        vertical-align: top;\n",
       "    }\n",
       "\n",
       "    .dataframe thead th {\n",
       "        text-align: right;\n",
       "    }\n",
       "</style>\n",
       "<table border=\"1\" class=\"dataframe\">\n",
       "  <thead>\n",
       "    <tr style=\"text-align: right;\">\n",
       "      <th></th>\n",
       "      <th>Cidade</th>\n",
       "      <th>Data</th>\n",
       "      <th>Vendas</th>\n",
       "      <th>LojaID</th>\n",
       "      <th>Qtde</th>\n",
       "      <th>Receita</th>\n",
       "      <th>Receita/Vendas</th>\n",
       "    </tr>\n",
       "  </thead>\n",
       "  <tbody>\n",
       "    <tr>\n",
       "      <th>0</th>\n",
       "      <td>Aracaju</td>\n",
       "      <td>2018-01-01</td>\n",
       "      <td>142.00</td>\n",
       "      <td>1520</td>\n",
       "      <td>1</td>\n",
       "      <td>142.00</td>\n",
       "      <td>1.0</td>\n",
       "    </tr>\n",
       "    <tr>\n",
       "      <th>1</th>\n",
       "      <td>Aracaju</td>\n",
       "      <td>2018-01-01</td>\n",
       "      <td>14.21</td>\n",
       "      <td>1522</td>\n",
       "      <td>6</td>\n",
       "      <td>85.26</td>\n",
       "      <td>6.0</td>\n",
       "    </tr>\n",
       "    <tr>\n",
       "      <th>2</th>\n",
       "      <td>Aracaju</td>\n",
       "      <td>2018-01-01</td>\n",
       "      <td>71.55</td>\n",
       "      <td>1520</td>\n",
       "      <td>1</td>\n",
       "      <td>71.55</td>\n",
       "      <td>1.0</td>\n",
       "    </tr>\n",
       "    <tr>\n",
       "      <th>3</th>\n",
       "      <td>Aracaju</td>\n",
       "      <td>2018-01-01</td>\n",
       "      <td>3.01</td>\n",
       "      <td>1521</td>\n",
       "      <td>7</td>\n",
       "      <td>21.07</td>\n",
       "      <td>7.0</td>\n",
       "    </tr>\n",
       "    <tr>\n",
       "      <th>4</th>\n",
       "      <td>Aracaju</td>\n",
       "      <td>2018-01-01</td>\n",
       "      <td>24.51</td>\n",
       "      <td>1522</td>\n",
       "      <td>8</td>\n",
       "      <td>196.08</td>\n",
       "      <td>8.0</td>\n",
       "    </tr>\n",
       "  </tbody>\n",
       "</table>\n",
       "</div>"
      ],
      "text/plain": [
       "    Cidade       Data  Vendas LojaID  Qtde  Receita  Receita/Vendas\n",
       "0  Aracaju 2018-01-01  142.00   1520     1   142.00             1.0\n",
       "1  Aracaju 2018-01-01   14.21   1522     6    85.26             6.0\n",
       "2  Aracaju 2018-01-01   71.55   1520     1    71.55             1.0\n",
       "3  Aracaju 2018-01-01    3.01   1521     7    21.07             7.0\n",
       "4  Aracaju 2018-01-01   24.51   1522     8   196.08             8.0"
      ]
     },
     "execution_count": 31,
     "metadata": {},
     "output_type": "execute_result"
    }
   ],
   "source": [
    "df.head()"
   ]
  },
  {
   "cell_type": "code",
   "execution_count": 32,
   "metadata": {
    "colab": {
     "base_uri": "https://localhost:8080/"
    },
    "executionInfo": {
     "elapsed": 227,
     "status": "ok",
     "timestamp": 1631138978563,
     "user": {
      "displayName": "Fernando Alves da Silva",
      "photoUrl": "https://lh3.googleusercontent.com/a-/AOh14GhKTiasYPw6kBHmMeB6q80p-_rAc2K4AVgs6vVCFA=s64",
      "userId": "04389003071277076505"
     },
     "user_tz": 180
    },
    "id": "vB348ye0dSDi",
    "outputId": "4677876e-54b7-464b-944a-89f7f6b6f513"
   },
   "outputs": [
    {
     "data": {
      "text/plain": [
       "3544.0"
      ]
     },
     "execution_count": 32,
     "metadata": {},
     "output_type": "execute_result"
    }
   ],
   "source": [
    "#Retornando a maior receita\n",
    "df['Receita'].max()"
   ]
  },
  {
   "cell_type": "code",
   "execution_count": 33,
   "metadata": {
    "colab": {
     "base_uri": "https://localhost:8080/"
    },
    "executionInfo": {
     "elapsed": 232,
     "status": "ok",
     "timestamp": 1631139000965,
     "user": {
      "displayName": "Fernando Alves da Silva",
      "photoUrl": "https://lh3.googleusercontent.com/a-/AOh14GhKTiasYPw6kBHmMeB6q80p-_rAc2K4AVgs6vVCFA=s64",
      "userId": "04389003071277076505"
     },
     "user_tz": 180
    },
    "id": "XXuhAXfFdZiq",
    "outputId": "0add6fdc-26b8-4123-fb64-77473e2daf88"
   },
   "outputs": [
    {
     "data": {
      "text/plain": [
       "3.34"
      ]
     },
     "execution_count": 33,
     "metadata": {},
     "output_type": "execute_result"
    }
   ],
   "source": [
    "#Retornando a menor receita\n",
    "df['Receita'].min()"
   ]
  },
  {
   "cell_type": "code",
   "execution_count": 38,
   "metadata": {
    "colab": {
     "base_uri": "https://localhost:8080/",
     "height": 142
    },
    "executionInfo": {
     "elapsed": 8,
     "status": "ok",
     "timestamp": 1631139269786,
     "user": {
      "displayName": "Fernando Alves da Silva",
      "photoUrl": "https://lh3.googleusercontent.com/a-/AOh14GhKTiasYPw6kBHmMeB6q80p-_rAc2K4AVgs6vVCFA=s64",
      "userId": "04389003071277076505"
     },
     "user_tz": 180
    },
    "id": "yhJOG7wxdfAn",
    "outputId": "d2d8ffb5-1ffa-4cee-8edd-164b663509e7"
   },
   "outputs": [
    {
     "data": {
      "text/html": [
       "<div>\n",
       "<style scoped>\n",
       "    .dataframe tbody tr th:only-of-type {\n",
       "        vertical-align: middle;\n",
       "    }\n",
       "\n",
       "    .dataframe tbody tr th {\n",
       "        vertical-align: top;\n",
       "    }\n",
       "\n",
       "    .dataframe thead th {\n",
       "        text-align: right;\n",
       "    }\n",
       "</style>\n",
       "<table border=\"1\" class=\"dataframe\">\n",
       "  <thead>\n",
       "    <tr style=\"text-align: right;\">\n",
       "      <th></th>\n",
       "      <th>Cidade</th>\n",
       "      <th>Data</th>\n",
       "      <th>Vendas</th>\n",
       "      <th>LojaID</th>\n",
       "      <th>Qtde</th>\n",
       "      <th>Receita</th>\n",
       "      <th>Receita/Vendas</th>\n",
       "    </tr>\n",
       "  </thead>\n",
       "  <tbody>\n",
       "    <tr>\n",
       "      <th>7</th>\n",
       "      <td>Natal</td>\n",
       "      <td>2019-03-18</td>\n",
       "      <td>886.0</td>\n",
       "      <td>853</td>\n",
       "      <td>4</td>\n",
       "      <td>3544.0</td>\n",
       "      <td>4.0</td>\n",
       "    </tr>\n",
       "    <tr>\n",
       "      <th>51</th>\n",
       "      <td>Natal</td>\n",
       "      <td>2018-01-21</td>\n",
       "      <td>859.0</td>\n",
       "      <td>852</td>\n",
       "      <td>4</td>\n",
       "      <td>3436.0</td>\n",
       "      <td>4.0</td>\n",
       "    </tr>\n",
       "    <tr>\n",
       "      <th>55</th>\n",
       "      <td>Natal</td>\n",
       "      <td>2019-01-08</td>\n",
       "      <td>859.0</td>\n",
       "      <td>854</td>\n",
       "      <td>4</td>\n",
       "      <td>3436.0</td>\n",
       "      <td>4.0</td>\n",
       "    </tr>\n",
       "  </tbody>\n",
       "</table>\n",
       "</div>"
      ],
      "text/plain": [
       "   Cidade       Data  Vendas LojaID  Qtde  Receita  Receita/Vendas\n",
       "7   Natal 2019-03-18   886.0    853     4   3544.0             4.0\n",
       "51  Natal 2018-01-21   859.0    852     4   3436.0             4.0\n",
       "55  Natal 2019-01-08   859.0    854     4   3436.0             4.0"
      ]
     },
     "execution_count": 38,
     "metadata": {},
     "output_type": "execute_result"
    }
   ],
   "source": [
    "#nlargest\n",
    "#Top 3 melhores receitas\n",
    "df.nlargest(3, 'Receita')"
   ]
  },
  {
   "cell_type": "code",
   "execution_count": 39,
   "metadata": {
    "colab": {
     "base_uri": "https://localhost:8080/",
     "height": 142
    },
    "executionInfo": {
     "elapsed": 234,
     "status": "ok",
     "timestamp": 1631139279323,
     "user": {
      "displayName": "Fernando Alves da Silva",
      "photoUrl": "https://lh3.googleusercontent.com/a-/AOh14GhKTiasYPw6kBHmMeB6q80p-_rAc2K4AVgs6vVCFA=s64",
      "userId": "04389003071277076505"
     },
     "user_tz": 180
    },
    "id": "CxjtQHSMd4vR",
    "outputId": "fe363ba9-22ec-49a6-b9c5-fac55d2d0f8c"
   },
   "outputs": [
    {
     "data": {
      "text/html": [
       "<div>\n",
       "<style scoped>\n",
       "    .dataframe tbody tr th:only-of-type {\n",
       "        vertical-align: middle;\n",
       "    }\n",
       "\n",
       "    .dataframe tbody tr th {\n",
       "        vertical-align: top;\n",
       "    }\n",
       "\n",
       "    .dataframe thead th {\n",
       "        text-align: right;\n",
       "    }\n",
       "</style>\n",
       "<table border=\"1\" class=\"dataframe\">\n",
       "  <thead>\n",
       "    <tr style=\"text-align: right;\">\n",
       "      <th></th>\n",
       "      <th>Cidade</th>\n",
       "      <th>Data</th>\n",
       "      <th>Vendas</th>\n",
       "      <th>LojaID</th>\n",
       "      <th>Qtde</th>\n",
       "      <th>Receita</th>\n",
       "      <th>Receita/Vendas</th>\n",
       "    </tr>\n",
       "  </thead>\n",
       "  <tbody>\n",
       "    <tr>\n",
       "      <th>118</th>\n",
       "      <td>Aracaju</td>\n",
       "      <td>2018-01-01</td>\n",
       "      <td>3.34</td>\n",
       "      <td>1522</td>\n",
       "      <td>1</td>\n",
       "      <td>3.34</td>\n",
       "      <td>1.0</td>\n",
       "    </tr>\n",
       "    <tr>\n",
       "      <th>65</th>\n",
       "      <td>Recife</td>\n",
       "      <td>2019-01-01</td>\n",
       "      <td>4.01</td>\n",
       "      <td>981</td>\n",
       "      <td>1</td>\n",
       "      <td>4.01</td>\n",
       "      <td>1.0</td>\n",
       "    </tr>\n",
       "    <tr>\n",
       "      <th>92</th>\n",
       "      <td>Natal</td>\n",
       "      <td>2019-01-02</td>\n",
       "      <td>4.57</td>\n",
       "      <td>1035</td>\n",
       "      <td>1</td>\n",
       "      <td>4.57</td>\n",
       "      <td>1.0</td>\n",
       "    </tr>\n",
       "  </tbody>\n",
       "</table>\n",
       "</div>"
      ],
      "text/plain": [
       "      Cidade       Data  Vendas LojaID  Qtde  Receita  Receita/Vendas\n",
       "118  Aracaju 2018-01-01    3.34   1522     1     3.34             1.0\n",
       "65    Recife 2019-01-01    4.01    981     1     4.01             1.0\n",
       "92     Natal 2019-01-02    4.57   1035     1     4.57             1.0"
      ]
     },
     "execution_count": 39,
     "metadata": {},
     "output_type": "execute_result"
    }
   ],
   "source": [
    "#nsmallest\n",
    "#Top 3 piores receitas\n",
    "df.nsmallest(3, 'Receita')"
   ]
  },
  {
   "cell_type": "code",
   "execution_count": 40,
   "metadata": {
    "colab": {
     "base_uri": "https://localhost:8080/"
    },
    "executionInfo": {
     "elapsed": 226,
     "status": "ok",
     "timestamp": 1631139350940,
     "user": {
      "displayName": "Fernando Alves da Silva",
      "photoUrl": "https://lh3.googleusercontent.com/a-/AOh14GhKTiasYPw6kBHmMeB6q80p-_rAc2K4AVgs6vVCFA=s64",
      "userId": "04389003071277076505"
     },
     "user_tz": 180
    },
    "id": "NANqNgs8eQlb",
    "outputId": "b7af88ac-7c95-4b56-be6e-b93354804e01"
   },
   "outputs": [
    {
     "data": {
      "text/plain": [
       "Cidade\n",
       "Aracaju       48748.25\n",
       "Fortaleza     37913.97\n",
       "Natal        167227.52\n",
       "Recife        51936.51\n",
       "Salvador      40596.73\n",
       "Name: Receita, dtype: float64"
      ]
     },
     "execution_count": 40,
     "metadata": {},
     "output_type": "execute_result"
    }
   ],
   "source": [
    "#Agrupamento por cidade\n",
    "df.groupby('Cidade')['Receita'].sum()\n",
    "#Para o Jupyter manter comentado"
   ]
  },
  {
   "cell_type": "code",
   "execution_count": 42,
   "metadata": {
    "colab": {
     "base_uri": "https://localhost:8080/",
     "height": 359
    },
    "executionInfo": {
     "elapsed": 264,
     "status": "ok",
     "timestamp": 1631139440200,
     "user": {
      "displayName": "Fernando Alves da Silva",
      "photoUrl": "https://lh3.googleusercontent.com/a-/AOh14GhKTiasYPw6kBHmMeB6q80p-_rAc2K4AVgs6vVCFA=s64",
      "userId": "04389003071277076505"
     },
     "user_tz": 180
    },
    "id": "oHY3xBt5e0ci",
    "outputId": "ed641428-26b1-4050-e356-33f9ece386f3"
   },
   "outputs": [
    {
     "data": {
      "text/html": [
       "<div>\n",
       "<style scoped>\n",
       "    .dataframe tbody tr th:only-of-type {\n",
       "        vertical-align: middle;\n",
       "    }\n",
       "\n",
       "    .dataframe tbody tr th {\n",
       "        vertical-align: top;\n",
       "    }\n",
       "\n",
       "    .dataframe thead th {\n",
       "        text-align: right;\n",
       "    }\n",
       "</style>\n",
       "<table border=\"1\" class=\"dataframe\">\n",
       "  <thead>\n",
       "    <tr style=\"text-align: right;\">\n",
       "      <th></th>\n",
       "      <th>Cidade</th>\n",
       "      <th>Data</th>\n",
       "      <th>Vendas</th>\n",
       "      <th>LojaID</th>\n",
       "      <th>Qtde</th>\n",
       "      <th>Receita</th>\n",
       "      <th>Receita/Vendas</th>\n",
       "    </tr>\n",
       "  </thead>\n",
       "  <tbody>\n",
       "    <tr>\n",
       "      <th>7</th>\n",
       "      <td>Natal</td>\n",
       "      <td>2019-03-18</td>\n",
       "      <td>886.0</td>\n",
       "      <td>853</td>\n",
       "      <td>4</td>\n",
       "      <td>3544.0</td>\n",
       "      <td>4.0</td>\n",
       "    </tr>\n",
       "    <tr>\n",
       "      <th>55</th>\n",
       "      <td>Natal</td>\n",
       "      <td>2019-01-08</td>\n",
       "      <td>859.0</td>\n",
       "      <td>854</td>\n",
       "      <td>4</td>\n",
       "      <td>3436.0</td>\n",
       "      <td>4.0</td>\n",
       "    </tr>\n",
       "    <tr>\n",
       "      <th>51</th>\n",
       "      <td>Natal</td>\n",
       "      <td>2018-01-21</td>\n",
       "      <td>859.0</td>\n",
       "      <td>852</td>\n",
       "      <td>4</td>\n",
       "      <td>3436.0</td>\n",
       "      <td>4.0</td>\n",
       "    </tr>\n",
       "    <tr>\n",
       "      <th>30</th>\n",
       "      <td>Natal</td>\n",
       "      <td>2018-10-02</td>\n",
       "      <td>856.0</td>\n",
       "      <td>853</td>\n",
       "      <td>4</td>\n",
       "      <td>3424.0</td>\n",
       "      <td>4.0</td>\n",
       "    </tr>\n",
       "    <tr>\n",
       "      <th>41</th>\n",
       "      <td>Natal</td>\n",
       "      <td>2018-05-20</td>\n",
       "      <td>835.0</td>\n",
       "      <td>852</td>\n",
       "      <td>4</td>\n",
       "      <td>3340.0</td>\n",
       "      <td>4.0</td>\n",
       "    </tr>\n",
       "    <tr>\n",
       "      <th>38</th>\n",
       "      <td>Natal</td>\n",
       "      <td>2018-02-25</td>\n",
       "      <td>828.0</td>\n",
       "      <td>852</td>\n",
       "      <td>4</td>\n",
       "      <td>3312.0</td>\n",
       "      <td>4.0</td>\n",
       "    </tr>\n",
       "    <tr>\n",
       "      <th>10</th>\n",
       "      <td>Natal</td>\n",
       "      <td>2018-10-27</td>\n",
       "      <td>828.0</td>\n",
       "      <td>852</td>\n",
       "      <td>4</td>\n",
       "      <td>3312.0</td>\n",
       "      <td>4.0</td>\n",
       "    </tr>\n",
       "    <tr>\n",
       "      <th>69</th>\n",
       "      <td>Natal</td>\n",
       "      <td>2019-03-24</td>\n",
       "      <td>817.0</td>\n",
       "      <td>852</td>\n",
       "      <td>4</td>\n",
       "      <td>3268.0</td>\n",
       "      <td>4.0</td>\n",
       "    </tr>\n",
       "    <tr>\n",
       "      <th>62</th>\n",
       "      <td>Natal</td>\n",
       "      <td>2018-02-10</td>\n",
       "      <td>793.0</td>\n",
       "      <td>854</td>\n",
       "      <td>4</td>\n",
       "      <td>3172.0</td>\n",
       "      <td>4.0</td>\n",
       "    </tr>\n",
       "    <tr>\n",
       "      <th>52</th>\n",
       "      <td>Natal</td>\n",
       "      <td>2018-04-27</td>\n",
       "      <td>778.0</td>\n",
       "      <td>854</td>\n",
       "      <td>4</td>\n",
       "      <td>3112.0</td>\n",
       "      <td>4.0</td>\n",
       "    </tr>\n",
       "  </tbody>\n",
       "</table>\n",
       "</div>"
      ],
      "text/plain": [
       "   Cidade       Data  Vendas LojaID  Qtde  Receita  Receita/Vendas\n",
       "7   Natal 2019-03-18   886.0    853     4   3544.0             4.0\n",
       "55  Natal 2019-01-08   859.0    854     4   3436.0             4.0\n",
       "51  Natal 2018-01-21   859.0    852     4   3436.0             4.0\n",
       "30  Natal 2018-10-02   856.0    853     4   3424.0             4.0\n",
       "41  Natal 2018-05-20   835.0    852     4   3340.0             4.0\n",
       "38  Natal 2018-02-25   828.0    852     4   3312.0             4.0\n",
       "10  Natal 2018-10-27   828.0    852     4   3312.0             4.0\n",
       "69  Natal 2019-03-24   817.0    852     4   3268.0             4.0\n",
       "62  Natal 2018-02-10   793.0    854     4   3172.0             4.0\n",
       "52  Natal 2018-04-27   778.0    854     4   3112.0             4.0"
      ]
     },
     "execution_count": 42,
     "metadata": {},
     "output_type": "execute_result"
    }
   ],
   "source": [
    "#Ordenando o conjunto de dados decrescente\n",
    "df.sort_values('Receita', ascending=False).head(10)"
   ]
  },
  {
   "cell_type": "markdown",
   "metadata": {
    "id": "aLMQ437UfND5"
   },
   "source": [
    "**Trabalhando com  datas**"
   ]
  },
  {
   "cell_type": "code",
   "execution_count": 43,
   "metadata": {
    "executionInfo": {
     "elapsed": 231,
     "status": "ok",
     "timestamp": 1631139542231,
     "user": {
      "displayName": "Fernando Alves da Silva",
      "photoUrl": "https://lh3.googleusercontent.com/a-/AOh14GhKTiasYPw6kBHmMeB6q80p-_rAc2K4AVgs6vVCFA=s64",
      "userId": "04389003071277076505"
     },
     "user_tz": 180
    },
    "id": "QAzjqR6DfTGL"
   },
   "outputs": [],
   "source": [
    "#Transformando a coluna de dada em tipo inteiro\n",
    "df['Data'] = df['Data'].astype('int64')"
   ]
  },
  {
   "cell_type": "code",
   "execution_count": 44,
   "metadata": {
    "colab": {
     "base_uri": "https://localhost:8080/"
    },
    "executionInfo": {
     "elapsed": 330,
     "status": "ok",
     "timestamp": 1631139549487,
     "user": {
      "displayName": "Fernando Alves da Silva",
      "photoUrl": "https://lh3.googleusercontent.com/a-/AOh14GhKTiasYPw6kBHmMeB6q80p-_rAc2K4AVgs6vVCFA=s64",
      "userId": "04389003071277076505"
     },
     "user_tz": 180
    },
    "id": "znfksqNkfjJr",
    "outputId": "fbf1c8c6-3436-4dbc-954c-8cbf5f93be0f"
   },
   "outputs": [
    {
     "data": {
      "text/plain": [
       "Cidade             object\n",
       "Data                int64\n",
       "Vendas            float64\n",
       "LojaID             object\n",
       "Qtde                int64\n",
       "Receita           float64\n",
       "Receita/Vendas    float64\n",
       "dtype: object"
      ]
     },
     "execution_count": 44,
     "metadata": {},
     "output_type": "execute_result"
    }
   ],
   "source": [
    "df.dtypes\n"
   ]
  },
  {
   "cell_type": "code",
   "execution_count": 45,
   "metadata": {
    "executionInfo": {
     "elapsed": 270,
     "status": "ok",
     "timestamp": 1631139608334,
     "user": {
      "displayName": "Fernando Alves da Silva",
      "photoUrl": "https://lh3.googleusercontent.com/a-/AOh14GhKTiasYPw6kBHmMeB6q80p-_rAc2K4AVgs6vVCFA=s64",
      "userId": "04389003071277076505"
     },
     "user_tz": 180
    },
    "id": "Duh6hjn4fk4o"
   },
   "outputs": [],
   "source": [
    "#Transformando a coluna de data em data\n",
    "df['Data'] = pd.to_datetime(df['Data'])"
   ]
  },
  {
   "cell_type": "code",
   "execution_count": 46,
   "metadata": {
    "colab": {
     "base_uri": "https://localhost:8080/"
    },
    "executionInfo": {
     "elapsed": 236,
     "status": "ok",
     "timestamp": 1631139613925,
     "user": {
      "displayName": "Fernando Alves da Silva",
      "photoUrl": "https://lh3.googleusercontent.com/a-/AOh14GhKTiasYPw6kBHmMeB6q80p-_rAc2K4AVgs6vVCFA=s64",
      "userId": "04389003071277076505"
     },
     "user_tz": 180
    },
    "id": "QT1Dy2TKfzQY",
    "outputId": "0d68f4f0-df3f-413e-ed61-a57422cb0832"
   },
   "outputs": [
    {
     "data": {
      "text/plain": [
       "Cidade                    object\n",
       "Data              datetime64[ns]\n",
       "Vendas                   float64\n",
       "LojaID                    object\n",
       "Qtde                       int64\n",
       "Receita                  float64\n",
       "Receita/Vendas           float64\n",
       "dtype: object"
      ]
     },
     "execution_count": 46,
     "metadata": {},
     "output_type": "execute_result"
    }
   ],
   "source": [
    "df.dtypes"
   ]
  },
  {
   "cell_type": "code",
   "execution_count": 47,
   "metadata": {
    "colab": {
     "base_uri": "https://localhost:8080/"
    },
    "executionInfo": {
     "elapsed": 229,
     "status": "ok",
     "timestamp": 1631139679067,
     "user": {
      "displayName": "Fernando Alves da Silva",
      "photoUrl": "https://lh3.googleusercontent.com/a-/AOh14GhKTiasYPw6kBHmMeB6q80p-_rAc2K4AVgs6vVCFA=s64",
      "userId": "04389003071277076505"
     },
     "user_tz": 180
    },
    "id": "0kO0mJftf0p0",
    "outputId": "d6fbe18e-136b-4bfc-c24d-cbaead35defd"
   },
   "outputs": [
    {
     "data": {
      "text/plain": [
       "Data\n",
       "2018    118176.53\n",
       "2019    228246.45\n",
       "Name: Receita, dtype: float64"
      ]
     },
     "execution_count": 47,
     "metadata": {},
     "output_type": "execute_result"
    }
   ],
   "source": [
    "#Agrupamento por ano\n",
    "df.groupby(df['Data'].dt.year)['Receita'].sum()"
   ]
  },
  {
   "cell_type": "code",
   "execution_count": 48,
   "metadata": {
    "executionInfo": {
     "elapsed": 239,
     "status": "ok",
     "timestamp": 1631139717635,
     "user": {
      "displayName": "Fernando Alves da Silva",
      "photoUrl": "https://lh3.googleusercontent.com/a-/AOh14GhKTiasYPw6kBHmMeB6q80p-_rAc2K4AVgs6vVCFA=s64",
      "userId": "04389003071277076505"
     },
     "user_tz": 180
    },
    "id": "G0Uq7k24gEj9"
   },
   "outputs": [],
   "source": [
    "#Criando uma nova coluna com o ano\n",
    "df['Ano_Venda'] = df['Data'].dt.year"
   ]
  },
  {
   "cell_type": "code",
   "execution_count": 50,
   "metadata": {
    "colab": {
     "base_uri": "https://localhost:8080/",
     "height": 204
    },
    "executionInfo": {
     "elapsed": 412,
     "status": "ok",
     "timestamp": 1631139744611,
     "user": {
      "displayName": "Fernando Alves da Silva",
      "photoUrl": "https://lh3.googleusercontent.com/a-/AOh14GhKTiasYPw6kBHmMeB6q80p-_rAc2K4AVgs6vVCFA=s64",
      "userId": "04389003071277076505"
     },
     "user_tz": 180
    },
    "id": "jarBKiVpgN-G",
    "outputId": "d0e666eb-0b03-42a9-b220-f042605892f9"
   },
   "outputs": [
    {
     "data": {
      "text/html": [
       "<div>\n",
       "<style scoped>\n",
       "    .dataframe tbody tr th:only-of-type {\n",
       "        vertical-align: middle;\n",
       "    }\n",
       "\n",
       "    .dataframe tbody tr th {\n",
       "        vertical-align: top;\n",
       "    }\n",
       "\n",
       "    .dataframe thead th {\n",
       "        text-align: right;\n",
       "    }\n",
       "</style>\n",
       "<table border=\"1\" class=\"dataframe\">\n",
       "  <thead>\n",
       "    <tr style=\"text-align: right;\">\n",
       "      <th></th>\n",
       "      <th>Cidade</th>\n",
       "      <th>Data</th>\n",
       "      <th>Vendas</th>\n",
       "      <th>LojaID</th>\n",
       "      <th>Qtde</th>\n",
       "      <th>Receita</th>\n",
       "      <th>Receita/Vendas</th>\n",
       "      <th>Ano_Venda</th>\n",
       "    </tr>\n",
       "  </thead>\n",
       "  <tbody>\n",
       "    <tr>\n",
       "      <th>10</th>\n",
       "      <td>Fortaleza</td>\n",
       "      <td>2019-01-01</td>\n",
       "      <td>179.88</td>\n",
       "      <td>1002</td>\n",
       "      <td>4</td>\n",
       "      <td>719.52</td>\n",
       "      <td>4.0</td>\n",
       "      <td>2019</td>\n",
       "    </tr>\n",
       "    <tr>\n",
       "      <th>135</th>\n",
       "      <td>Fortaleza</td>\n",
       "      <td>2019-03-02</td>\n",
       "      <td>10.79</td>\n",
       "      <td>983</td>\n",
       "      <td>5</td>\n",
       "      <td>53.95</td>\n",
       "      <td>5.0</td>\n",
       "      <td>2019</td>\n",
       "    </tr>\n",
       "    <tr>\n",
       "      <th>36</th>\n",
       "      <td>Aracaju</td>\n",
       "      <td>2018-01-01</td>\n",
       "      <td>37.99</td>\n",
       "      <td>1523</td>\n",
       "      <td>8</td>\n",
       "      <td>303.92</td>\n",
       "      <td>8.0</td>\n",
       "      <td>2018</td>\n",
       "    </tr>\n",
       "    <tr>\n",
       "      <th>108</th>\n",
       "      <td>Salvador</td>\n",
       "      <td>2019-03-02</td>\n",
       "      <td>11.72</td>\n",
       "      <td>1037</td>\n",
       "      <td>1</td>\n",
       "      <td>11.72</td>\n",
       "      <td>1.0</td>\n",
       "      <td>2019</td>\n",
       "    </tr>\n",
       "    <tr>\n",
       "      <th>221</th>\n",
       "      <td>Salvador</td>\n",
       "      <td>2019-01-02</td>\n",
       "      <td>142.23</td>\n",
       "      <td>1035</td>\n",
       "      <td>2</td>\n",
       "      <td>284.46</td>\n",
       "      <td>2.0</td>\n",
       "      <td>2019</td>\n",
       "    </tr>\n",
       "  </tbody>\n",
       "</table>\n",
       "</div>"
      ],
      "text/plain": [
       "        Cidade       Data  Vendas  ... Receita  Receita/Vendas  Ano_Venda\n",
       "10   Fortaleza 2019-01-01  179.88  ...  719.52             4.0       2019\n",
       "135  Fortaleza 2019-03-02   10.79  ...   53.95             5.0       2019\n",
       "36     Aracaju 2018-01-01   37.99  ...  303.92             8.0       2018\n",
       "108   Salvador 2019-03-02   11.72  ...   11.72             1.0       2019\n",
       "221   Salvador 2019-01-02  142.23  ...  284.46             2.0       2019\n",
       "\n",
       "[5 rows x 8 columns]"
      ]
     },
     "execution_count": 50,
     "metadata": {},
     "output_type": "execute_result"
    }
   ],
   "source": [
    "df.sample(5)"
   ]
  },
  {
   "cell_type": "code",
   "execution_count": 51,
   "metadata": {
    "executionInfo": {
     "elapsed": 232,
     "status": "ok",
     "timestamp": 1631139820384,
     "user": {
      "displayName": "Fernando Alves da Silva",
      "photoUrl": "https://lh3.googleusercontent.com/a-/AOh14GhKTiasYPw6kBHmMeB6q80p-_rAc2K4AVgs6vVCFA=s64",
      "userId": "04389003071277076505"
     },
     "user_tz": 180
    },
    "id": "fS8lJreYgQp0"
   },
   "outputs": [],
   "source": [
    "#Extraindo o mês e o dia\n",
    "df['mes_venda'], df['dia_venda'] = (df['Data'].dt.month, df['Data'].dt.day)"
   ]
  },
  {
   "cell_type": "code",
   "execution_count": 54,
   "metadata": {
    "colab": {
     "base_uri": "https://localhost:8080/",
     "height": 204
    },
    "executionInfo": {
     "elapsed": 235,
     "status": "ok",
     "timestamp": 1631140144829,
     "user": {
      "displayName": "Fernando Alves da Silva",
      "photoUrl": "https://lh3.googleusercontent.com/a-/AOh14GhKTiasYPw6kBHmMeB6q80p-_rAc2K4AVgs6vVCFA=s64",
      "userId": "04389003071277076505"
     },
     "user_tz": 180
    },
    "id": "EtBHc88jgnDd",
    "outputId": "aad81c11-0c4e-404a-db34-d1708330ee03"
   },
   "outputs": [
    {
     "data": {
      "text/html": [
       "<div>\n",
       "<style scoped>\n",
       "    .dataframe tbody tr th:only-of-type {\n",
       "        vertical-align: middle;\n",
       "    }\n",
       "\n",
       "    .dataframe tbody tr th {\n",
       "        vertical-align: top;\n",
       "    }\n",
       "\n",
       "    .dataframe thead th {\n",
       "        text-align: right;\n",
       "    }\n",
       "</style>\n",
       "<table border=\"1\" class=\"dataframe\">\n",
       "  <thead>\n",
       "    <tr style=\"text-align: right;\">\n",
       "      <th></th>\n",
       "      <th>Cidade</th>\n",
       "      <th>Data</th>\n",
       "      <th>Vendas</th>\n",
       "      <th>LojaID</th>\n",
       "      <th>Qtde</th>\n",
       "      <th>Receita</th>\n",
       "      <th>Receita/Vendas</th>\n",
       "      <th>Ano_Venda</th>\n",
       "      <th>mes_venda</th>\n",
       "      <th>dia_venda</th>\n",
       "    </tr>\n",
       "  </thead>\n",
       "  <tbody>\n",
       "    <tr>\n",
       "      <th>71</th>\n",
       "      <td>Aracaju</td>\n",
       "      <td>2018-01-01</td>\n",
       "      <td>228.27</td>\n",
       "      <td>1523</td>\n",
       "      <td>6</td>\n",
       "      <td>1369.62</td>\n",
       "      <td>6.0</td>\n",
       "      <td>2018</td>\n",
       "      <td>1</td>\n",
       "      <td>1</td>\n",
       "    </tr>\n",
       "    <tr>\n",
       "      <th>45</th>\n",
       "      <td>Aracaju</td>\n",
       "      <td>2018-01-01</td>\n",
       "      <td>131.12</td>\n",
       "      <td>1523</td>\n",
       "      <td>5</td>\n",
       "      <td>655.60</td>\n",
       "      <td>5.0</td>\n",
       "      <td>2018</td>\n",
       "      <td>1</td>\n",
       "      <td>1</td>\n",
       "    </tr>\n",
       "    <tr>\n",
       "      <th>187</th>\n",
       "      <td>Salvador</td>\n",
       "      <td>2019-01-02</td>\n",
       "      <td>3.85</td>\n",
       "      <td>1035</td>\n",
       "      <td>3</td>\n",
       "      <td>11.55</td>\n",
       "      <td>3.0</td>\n",
       "      <td>2019</td>\n",
       "      <td>1</td>\n",
       "      <td>2</td>\n",
       "    </tr>\n",
       "    <tr>\n",
       "      <th>51</th>\n",
       "      <td>Fortaleza</td>\n",
       "      <td>2019-01-01</td>\n",
       "      <td>30.47</td>\n",
       "      <td>1005</td>\n",
       "      <td>3</td>\n",
       "      <td>91.41</td>\n",
       "      <td>3.0</td>\n",
       "      <td>2019</td>\n",
       "      <td>1</td>\n",
       "      <td>1</td>\n",
       "    </tr>\n",
       "    <tr>\n",
       "      <th>80</th>\n",
       "      <td>Aracaju</td>\n",
       "      <td>2018-01-01</td>\n",
       "      <td>121.77</td>\n",
       "      <td>1523</td>\n",
       "      <td>3</td>\n",
       "      <td>365.31</td>\n",
       "      <td>3.0</td>\n",
       "      <td>2018</td>\n",
       "      <td>1</td>\n",
       "      <td>1</td>\n",
       "    </tr>\n",
       "  </tbody>\n",
       "</table>\n",
       "</div>"
      ],
      "text/plain": [
       "        Cidade       Data  Vendas  ... Ano_Venda  mes_venda  dia_venda\n",
       "71     Aracaju 2018-01-01  228.27  ...      2018          1          1\n",
       "45     Aracaju 2018-01-01  131.12  ...      2018          1          1\n",
       "187   Salvador 2019-01-02    3.85  ...      2019          1          2\n",
       "51   Fortaleza 2019-01-01   30.47  ...      2019          1          1\n",
       "80     Aracaju 2018-01-01  121.77  ...      2018          1          1\n",
       "\n",
       "[5 rows x 10 columns]"
      ]
     },
     "execution_count": 54,
     "metadata": {},
     "output_type": "execute_result"
    }
   ],
   "source": [
    "df.sample(5)"
   ]
  },
  {
   "cell_type": "code",
   "execution_count": 55,
   "metadata": {
    "colab": {
     "base_uri": "https://localhost:8080/"
    },
    "executionInfo": {
     "elapsed": 231,
     "status": "ok",
     "timestamp": 1631140170372,
     "user": {
      "displayName": "Fernando Alves da Silva",
      "photoUrl": "https://lh3.googleusercontent.com/a-/AOh14GhKTiasYPw6kBHmMeB6q80p-_rAc2K4AVgs6vVCFA=s64",
      "userId": "04389003071277076505"
     },
     "user_tz": 180
    },
    "id": "4DUrL__lhyaa",
    "outputId": "8e176c68-d496-4258-ec36-18c8f3894273"
   },
   "outputs": [
    {
     "data": {
      "text/plain": [
       "Timestamp('2018-01-01 00:00:00')"
      ]
     },
     "execution_count": 55,
     "metadata": {},
     "output_type": "execute_result"
    }
   ],
   "source": [
    "#Retornando a data mais antiga\n",
    "df['Data'].min()"
   ]
  },
  {
   "cell_type": "code",
   "execution_count": 56,
   "metadata": {
    "executionInfo": {
     "elapsed": 287,
     "status": "ok",
     "timestamp": 1631140213338,
     "user": {
      "displayName": "Fernando Alves da Silva",
      "photoUrl": "https://lh3.googleusercontent.com/a-/AOh14GhKTiasYPw6kBHmMeB6q80p-_rAc2K4AVgs6vVCFA=s64",
      "userId": "04389003071277076505"
     },
     "user_tz": 180
    },
    "id": "wVd6HLPIh8gf"
   },
   "outputs": [],
   "source": [
    "#Calculando a diferença de dias\n",
    "df['diferença_dias'] = df ['Data'] - df['Data'].min()"
   ]
  },
  {
   "cell_type": "code",
   "execution_count": 58,
   "metadata": {
    "colab": {
     "base_uri": "https://localhost:8080/",
     "height": 309
    },
    "executionInfo": {
     "elapsed": 235,
     "status": "ok",
     "timestamp": 1631140225838,
     "user": {
      "displayName": "Fernando Alves da Silva",
      "photoUrl": "https://lh3.googleusercontent.com/a-/AOh14GhKTiasYPw6kBHmMeB6q80p-_rAc2K4AVgs6vVCFA=s64",
      "userId": "04389003071277076505"
     },
     "user_tz": 180
    },
    "id": "Nk6l4FTLiG-0",
    "outputId": "0a1c9652-a2af-4d66-b591-342fdee62520"
   },
   "outputs": [
    {
     "data": {
      "text/html": [
       "<div>\n",
       "<style scoped>\n",
       "    .dataframe tbody tr th:only-of-type {\n",
       "        vertical-align: middle;\n",
       "    }\n",
       "\n",
       "    .dataframe tbody tr th {\n",
       "        vertical-align: top;\n",
       "    }\n",
       "\n",
       "    .dataframe thead th {\n",
       "        text-align: right;\n",
       "    }\n",
       "</style>\n",
       "<table border=\"1\" class=\"dataframe\">\n",
       "  <thead>\n",
       "    <tr style=\"text-align: right;\">\n",
       "      <th></th>\n",
       "      <th>Cidade</th>\n",
       "      <th>Data</th>\n",
       "      <th>Vendas</th>\n",
       "      <th>LojaID</th>\n",
       "      <th>Qtde</th>\n",
       "      <th>Receita</th>\n",
       "      <th>Receita/Vendas</th>\n",
       "      <th>Ano_Venda</th>\n",
       "      <th>mes_venda</th>\n",
       "      <th>dia_venda</th>\n",
       "      <th>diferença_dias</th>\n",
       "    </tr>\n",
       "  </thead>\n",
       "  <tbody>\n",
       "    <tr>\n",
       "      <th>81</th>\n",
       "      <td>Recife</td>\n",
       "      <td>2019-01-01</td>\n",
       "      <td>36.52</td>\n",
       "      <td>982</td>\n",
       "      <td>8</td>\n",
       "      <td>292.16</td>\n",
       "      <td>8.0</td>\n",
       "      <td>2019</td>\n",
       "      <td>1</td>\n",
       "      <td>1</td>\n",
       "      <td>365 days</td>\n",
       "    </tr>\n",
       "    <tr>\n",
       "      <th>24</th>\n",
       "      <td>Natal</td>\n",
       "      <td>2018-04-22</td>\n",
       "      <td>868.00</td>\n",
       "      <td>854</td>\n",
       "      <td>3</td>\n",
       "      <td>2604.00</td>\n",
       "      <td>3.0</td>\n",
       "      <td>2018</td>\n",
       "      <td>4</td>\n",
       "      <td>22</td>\n",
       "      <td>111 days</td>\n",
       "    </tr>\n",
       "    <tr>\n",
       "      <th>192</th>\n",
       "      <td>Natal</td>\n",
       "      <td>2019-01-02</td>\n",
       "      <td>166.51</td>\n",
       "      <td>1036</td>\n",
       "      <td>1</td>\n",
       "      <td>166.51</td>\n",
       "      <td>1.0</td>\n",
       "      <td>2019</td>\n",
       "      <td>1</td>\n",
       "      <td>2</td>\n",
       "      <td>366 days</td>\n",
       "    </tr>\n",
       "    <tr>\n",
       "      <th>98</th>\n",
       "      <td>Recife</td>\n",
       "      <td>2019-01-01</td>\n",
       "      <td>137.34</td>\n",
       "      <td>981</td>\n",
       "      <td>8</td>\n",
       "      <td>1098.72</td>\n",
       "      <td>8.0</td>\n",
       "      <td>2019</td>\n",
       "      <td>1</td>\n",
       "      <td>1</td>\n",
       "      <td>365 days</td>\n",
       "    </tr>\n",
       "    <tr>\n",
       "      <th>77</th>\n",
       "      <td>Aracaju</td>\n",
       "      <td>2018-01-01</td>\n",
       "      <td>24.10</td>\n",
       "      <td>1522</td>\n",
       "      <td>1</td>\n",
       "      <td>24.10</td>\n",
       "      <td>1.0</td>\n",
       "      <td>2018</td>\n",
       "      <td>1</td>\n",
       "      <td>1</td>\n",
       "      <td>0 days</td>\n",
       "    </tr>\n",
       "  </tbody>\n",
       "</table>\n",
       "</div>"
      ],
      "text/plain": [
       "      Cidade       Data  Vendas  ... mes_venda  dia_venda  diferença_dias\n",
       "81    Recife 2019-01-01   36.52  ...         1          1        365 days\n",
       "24     Natal 2018-04-22  868.00  ...         4         22        111 days\n",
       "192    Natal 2019-01-02  166.51  ...         1          2        366 days\n",
       "98    Recife 2019-01-01  137.34  ...         1          1        365 days\n",
       "77   Aracaju 2018-01-01   24.10  ...         1          1          0 days\n",
       "\n",
       "[5 rows x 11 columns]"
      ]
     },
     "execution_count": 58,
     "metadata": {},
     "output_type": "execute_result"
    }
   ],
   "source": [
    "df.sample(5)"
   ]
  },
  {
   "cell_type": "code",
   "execution_count": 61,
   "metadata": {
    "executionInfo": {
     "elapsed": 266,
     "status": "ok",
     "timestamp": 1631140407159,
     "user": {
      "displayName": "Fernando Alves da Silva",
      "photoUrl": "https://lh3.googleusercontent.com/a-/AOh14GhKTiasYPw6kBHmMeB6q80p-_rAc2K4AVgs6vVCFA=s64",
      "userId": "04389003071277076505"
     },
     "user_tz": 180
    },
    "id": "beKJhz0Qif5s"
   },
   "outputs": [],
   "source": [
    "#Criando a coluna de trimestre\n",
    "df['trimestre_venda'] =  df['Data'].dt.quarter"
   ]
  },
  {
   "cell_type": "code",
   "execution_count": 62,
   "metadata": {
    "colab": {
     "base_uri": "https://localhost:8080/",
     "height": 309
    },
    "executionInfo": {
     "elapsed": 235,
     "status": "ok",
     "timestamp": 1631140409272,
     "user": {
      "displayName": "Fernando Alves da Silva",
      "photoUrl": "https://lh3.googleusercontent.com/a-/AOh14GhKTiasYPw6kBHmMeB6q80p-_rAc2K4AVgs6vVCFA=s64",
      "userId": "04389003071277076505"
     },
     "user_tz": 180
    },
    "id": "r61bXs1SiJGP",
    "outputId": "0d4818e6-cf24-46a1-c12e-5f6fb820e6f8"
   },
   "outputs": [
    {
     "data": {
      "text/html": [
       "<div>\n",
       "<style scoped>\n",
       "    .dataframe tbody tr th:only-of-type {\n",
       "        vertical-align: middle;\n",
       "    }\n",
       "\n",
       "    .dataframe tbody tr th {\n",
       "        vertical-align: top;\n",
       "    }\n",
       "\n",
       "    .dataframe thead th {\n",
       "        text-align: right;\n",
       "    }\n",
       "</style>\n",
       "<table border=\"1\" class=\"dataframe\">\n",
       "  <thead>\n",
       "    <tr style=\"text-align: right;\">\n",
       "      <th></th>\n",
       "      <th>Cidade</th>\n",
       "      <th>Data</th>\n",
       "      <th>Vendas</th>\n",
       "      <th>LojaID</th>\n",
       "      <th>Qtde</th>\n",
       "      <th>Receita</th>\n",
       "      <th>Receita/Vendas</th>\n",
       "      <th>Ano_Venda</th>\n",
       "      <th>mes_venda</th>\n",
       "      <th>dia_venda</th>\n",
       "      <th>diferença_dias</th>\n",
       "      <th>semestre_venda</th>\n",
       "      <th>trimestre_venda</th>\n",
       "    </tr>\n",
       "  </thead>\n",
       "  <tbody>\n",
       "    <tr>\n",
       "      <th>71</th>\n",
       "      <td>Aracaju</td>\n",
       "      <td>2018-01-01</td>\n",
       "      <td>228.27</td>\n",
       "      <td>1523</td>\n",
       "      <td>6</td>\n",
       "      <td>1369.62</td>\n",
       "      <td>6.0</td>\n",
       "      <td>2018</td>\n",
       "      <td>1</td>\n",
       "      <td>1</td>\n",
       "      <td>0 days</td>\n",
       "      <td>1</td>\n",
       "      <td>1</td>\n",
       "    </tr>\n",
       "    <tr>\n",
       "      <th>104</th>\n",
       "      <td>Recife</td>\n",
       "      <td>2019-01-01</td>\n",
       "      <td>40.11</td>\n",
       "      <td>983</td>\n",
       "      <td>5</td>\n",
       "      <td>200.55</td>\n",
       "      <td>5.0</td>\n",
       "      <td>2019</td>\n",
       "      <td>1</td>\n",
       "      <td>1</td>\n",
       "      <td>365 days</td>\n",
       "      <td>1</td>\n",
       "      <td>1</td>\n",
       "    </tr>\n",
       "    <tr>\n",
       "      <th>45</th>\n",
       "      <td>Recife</td>\n",
       "      <td>2019-01-01</td>\n",
       "      <td>15.90</td>\n",
       "      <td>983</td>\n",
       "      <td>8</td>\n",
       "      <td>127.20</td>\n",
       "      <td>8.0</td>\n",
       "      <td>2019</td>\n",
       "      <td>1</td>\n",
       "      <td>1</td>\n",
       "      <td>365 days</td>\n",
       "      <td>1</td>\n",
       "      <td>1</td>\n",
       "    </tr>\n",
       "    <tr>\n",
       "      <th>34</th>\n",
       "      <td>Natal</td>\n",
       "      <td>2019-01-07</td>\n",
       "      <td>484.00</td>\n",
       "      <td>852</td>\n",
       "      <td>2</td>\n",
       "      <td>968.00</td>\n",
       "      <td>2.0</td>\n",
       "      <td>2019</td>\n",
       "      <td>1</td>\n",
       "      <td>7</td>\n",
       "      <td>371 days</td>\n",
       "      <td>1</td>\n",
       "      <td>1</td>\n",
       "    </tr>\n",
       "    <tr>\n",
       "      <th>83</th>\n",
       "      <td>Natal</td>\n",
       "      <td>2019-01-02</td>\n",
       "      <td>63.66</td>\n",
       "      <td>1036</td>\n",
       "      <td>2</td>\n",
       "      <td>127.32</td>\n",
       "      <td>2.0</td>\n",
       "      <td>2019</td>\n",
       "      <td>1</td>\n",
       "      <td>2</td>\n",
       "      <td>366 days</td>\n",
       "      <td>1</td>\n",
       "      <td>1</td>\n",
       "    </tr>\n",
       "  </tbody>\n",
       "</table>\n",
       "</div>"
      ],
      "text/plain": [
       "      Cidade       Data  Vendas  ... diferença_dias  semestre_venda  trimestre_venda\n",
       "71   Aracaju 2018-01-01  228.27  ...         0 days               1                1\n",
       "104   Recife 2019-01-01   40.11  ...       365 days               1                1\n",
       "45    Recife 2019-01-01   15.90  ...       365 days               1                1\n",
       "34     Natal 2019-01-07  484.00  ...       371 days               1                1\n",
       "83     Natal 2019-01-02   63.66  ...       366 days               1                1\n",
       "\n",
       "[5 rows x 13 columns]"
      ]
     },
     "execution_count": 62,
     "metadata": {},
     "output_type": "execute_result"
    }
   ],
   "source": [
    "df.sample(5)"
   ]
  },
  {
   "cell_type": "code",
   "execution_count": 63,
   "metadata": {
    "executionInfo": {
     "elapsed": 233,
     "status": "ok",
     "timestamp": 1631140518260,
     "user": {
      "displayName": "Fernando Alves da Silva",
      "photoUrl": "https://lh3.googleusercontent.com/a-/AOh14GhKTiasYPw6kBHmMeB6q80p-_rAc2K4AVgs6vVCFA=s64",
      "userId": "04389003071277076505"
     },
     "user_tz": 180
    },
    "id": "zpiZObKTispv"
   },
   "outputs": [],
   "source": [
    "#Filtrando as vendas de 2019 do mês de março\n",
    "vendas_marco_10 = df.loc[(df['Data'].dt.year == 2019) & (df['Data'].dt.month == 3)]"
   ]
  },
  {
   "cell_type": "code",
   "execution_count": 65,
   "metadata": {
    "colab": {
     "base_uri": "https://localhost:8080/",
     "height": 309
    },
    "executionInfo": {
     "elapsed": 526,
     "status": "ok",
     "timestamp": 1631140624949,
     "user": {
      "displayName": "Fernando Alves da Silva",
      "photoUrl": "https://lh3.googleusercontent.com/a-/AOh14GhKTiasYPw6kBHmMeB6q80p-_rAc2K4AVgs6vVCFA=s64",
      "userId": "04389003071277076505"
     },
     "user_tz": 180
    },
    "id": "E92SLKGBjRbb",
    "outputId": "b96062a8-e58b-4c24-acbe-fff7e6ea9679"
   },
   "outputs": [
    {
     "data": {
      "text/html": [
       "<div>\n",
       "<style scoped>\n",
       "    .dataframe tbody tr th:only-of-type {\n",
       "        vertical-align: middle;\n",
       "    }\n",
       "\n",
       "    .dataframe tbody tr th {\n",
       "        vertical-align: top;\n",
       "    }\n",
       "\n",
       "    .dataframe thead th {\n",
       "        text-align: right;\n",
       "    }\n",
       "</style>\n",
       "<table border=\"1\" class=\"dataframe\">\n",
       "  <thead>\n",
       "    <tr style=\"text-align: right;\">\n",
       "      <th></th>\n",
       "      <th>Cidade</th>\n",
       "      <th>Data</th>\n",
       "      <th>Vendas</th>\n",
       "      <th>LojaID</th>\n",
       "      <th>Qtde</th>\n",
       "      <th>Receita</th>\n",
       "      <th>Receita/Vendas</th>\n",
       "      <th>Ano_Venda</th>\n",
       "      <th>mes_venda</th>\n",
       "      <th>dia_venda</th>\n",
       "      <th>diferença_dias</th>\n",
       "      <th>semestre_venda</th>\n",
       "      <th>trimestre_venda</th>\n",
       "    </tr>\n",
       "  </thead>\n",
       "  <tbody>\n",
       "    <tr>\n",
       "      <th>112</th>\n",
       "      <td>Salvador</td>\n",
       "      <td>2019-03-02</td>\n",
       "      <td>43.00</td>\n",
       "      <td>1036</td>\n",
       "      <td>3</td>\n",
       "      <td>129.00</td>\n",
       "      <td>3.0</td>\n",
       "      <td>2019</td>\n",
       "      <td>3</td>\n",
       "      <td>2</td>\n",
       "      <td>425 days</td>\n",
       "      <td>1</td>\n",
       "      <td>1</td>\n",
       "    </tr>\n",
       "    <tr>\n",
       "      <th>129</th>\n",
       "      <td>Fortaleza</td>\n",
       "      <td>2019-03-02</td>\n",
       "      <td>35.34</td>\n",
       "      <td>982</td>\n",
       "      <td>7</td>\n",
       "      <td>247.38</td>\n",
       "      <td>7.0</td>\n",
       "      <td>2019</td>\n",
       "      <td>3</td>\n",
       "      <td>2</td>\n",
       "      <td>425 days</td>\n",
       "      <td>1</td>\n",
       "      <td>1</td>\n",
       "    </tr>\n",
       "    <tr>\n",
       "      <th>5</th>\n",
       "      <td>Natal</td>\n",
       "      <td>2019-03-30</td>\n",
       "      <td>674.00</td>\n",
       "      <td>854</td>\n",
       "      <td>2</td>\n",
       "      <td>1348.00</td>\n",
       "      <td>2.0</td>\n",
       "      <td>2019</td>\n",
       "      <td>3</td>\n",
       "      <td>30</td>\n",
       "      <td>453 days</td>\n",
       "      <td>1</td>\n",
       "      <td>1</td>\n",
       "    </tr>\n",
       "    <tr>\n",
       "      <th>134</th>\n",
       "      <td>Recife</td>\n",
       "      <td>2019-03-02</td>\n",
       "      <td>195.18</td>\n",
       "      <td>980</td>\n",
       "      <td>5</td>\n",
       "      <td>975.90</td>\n",
       "      <td>5.0</td>\n",
       "      <td>2019</td>\n",
       "      <td>3</td>\n",
       "      <td>2</td>\n",
       "      <td>425 days</td>\n",
       "      <td>1</td>\n",
       "      <td>1</td>\n",
       "    </tr>\n",
       "    <tr>\n",
       "      <th>136</th>\n",
       "      <td>Recife</td>\n",
       "      <td>2019-03-02</td>\n",
       "      <td>39.09</td>\n",
       "      <td>982</td>\n",
       "      <td>4</td>\n",
       "      <td>156.36</td>\n",
       "      <td>4.0</td>\n",
       "      <td>2019</td>\n",
       "      <td>3</td>\n",
       "      <td>2</td>\n",
       "      <td>425 days</td>\n",
       "      <td>1</td>\n",
       "      <td>1</td>\n",
       "    </tr>\n",
       "  </tbody>\n",
       "</table>\n",
       "</div>"
      ],
      "text/plain": [
       "        Cidade       Data  ...  semestre_venda trimestre_venda\n",
       "112   Salvador 2019-03-02  ...               1               1\n",
       "129  Fortaleza 2019-03-02  ...               1               1\n",
       "5        Natal 2019-03-30  ...               1               1\n",
       "134     Recife 2019-03-02  ...               1               1\n",
       "136     Recife 2019-03-02  ...               1               1\n",
       "\n",
       "[5 rows x 13 columns]"
      ]
     },
     "execution_count": 65,
     "metadata": {},
     "output_type": "execute_result"
    }
   ],
   "source": [
    "vendas_marco_10.sample(5)"
   ]
  },
  {
   "cell_type": "markdown",
   "metadata": {
    "id": "pZevs1Lzjco6"
   },
   "source": [
    "**Visualização de dados**\n"
   ]
  },
  {
   "cell_type": "code",
   "execution_count": 66,
   "metadata": {
    "colab": {
     "base_uri": "https://localhost:8080/"
    },
    "executionInfo": {
     "elapsed": 365,
     "status": "ok",
     "timestamp": 1631140696956,
     "user": {
      "displayName": "Fernando Alves da Silva",
      "photoUrl": "https://lh3.googleusercontent.com/a-/AOh14GhKTiasYPw6kBHmMeB6q80p-_rAc2K4AVgs6vVCFA=s64",
      "userId": "04389003071277076505"
     },
     "user_tz": 180
    },
    "id": "9IwipqOZjSsv",
    "outputId": "1697f73c-f48b-4f1a-f11b-b82f79fc4ff7"
   },
   "outputs": [
    {
     "data": {
      "text/plain": [
       "1036    117\n",
       "1035    112\n",
       "1037    101\n",
       "1034     67\n",
       "983      65\n",
       "982      44\n",
       "1522     41\n",
       "1520     39\n",
       "980      36\n",
       "981      31\n",
       "1002     30\n",
       "1005     30\n",
       "852      29\n",
       "1523     29\n",
       "1004     28\n",
       "854      28\n",
       "853      26\n",
       "1521     21\n",
       "1003     20\n",
       "Name: LojaID, dtype: int64"
      ]
     },
     "execution_count": 66,
     "metadata": {},
     "output_type": "execute_result"
    }
   ],
   "source": [
    "df['LojaID'].value_counts(ascending=False)"
   ]
  },
  {
   "cell_type": "code",
   "execution_count": 71,
   "metadata": {
    "colab": {
     "base_uri": "https://localhost:8080/",
     "height": 298
    },
    "executionInfo": {
     "elapsed": 767,
     "status": "ok",
     "timestamp": 1631141061367,
     "user": {
      "displayName": "Fernando Alves da Silva",
      "photoUrl": "https://lh3.googleusercontent.com/a-/AOh14GhKTiasYPw6kBHmMeB6q80p-_rAc2K4AVgs6vVCFA=s64",
      "userId": "04389003071277076505"
     },
     "user_tz": 180
    },
    "id": "mOT5kCBhj9B0",
    "outputId": "afb9c28c-b122-4c4f-a5b2-8f3d47a4399d"
   },
   "outputs": [
    {
     "data": {
      "text/plain": [
       "<matplotlib.axes._subplots.AxesSubplot at 0x7f318d17a550>"
      ]
     },
     "execution_count": 71,
     "metadata": {},
     "output_type": "execute_result"
    },
    {
     "data": {
      "image/png": "[encoded data removed]",
      "text/plain": [
       "<Figure size 432x288 with 1 Axes>"
      ]
     },
     "metadata": {
      "needs_background": "light"
     },
     "output_type": "display_data"
    }
   ],
   "source": [
    "#Gráfico de barras\n",
    "df['LojaID'].value_counts().plot.bar()"
   ]
  },
  {
   "cell_type": "code",
   "execution_count": 74,
   "metadata": {
    "colab": {
     "base_uri": "https://localhost:8080/",
     "height": 282
    },
    "executionInfo": {
     "elapsed": 764,
     "status": "ok",
     "timestamp": 1631141146175,
     "user": {
      "displayName": "Fernando Alves da Silva",
      "photoUrl": "https://lh3.googleusercontent.com/a-/AOh14GhKTiasYPw6kBHmMeB6q80p-_rAc2K4AVgs6vVCFA=s64",
      "userId": "04389003071277076505"
     },
     "user_tz": 180
    },
    "id": "flqUnSZglfoR",
    "outputId": "9fc044d4-ce09-4e5e-ff0c-522098622ce8"
   },
   "outputs": [
    {
     "data": {
      "text/plain": [
       "<matplotlib.axes._subplots.AxesSubplot at 0x7f318cfc65d0>"
      ]
     },
     "execution_count": 74,
     "metadata": {},
     "output_type": "execute_result"
    },
    {
     "data": {
      "image/png": "[encoded data removed]",
      "text/plain": [
       "<Figure size 432x288 with 1 Axes>"
      ]
     },
     "metadata": {
      "needs_background": "light"
     },
     "output_type": "display_data"
    }
   ],
   "source": [
    "#Gráfico de barras horizontais\n",
    "df['LojaID'].value_counts().plot.barh()"
   ]
  },
  {
   "cell_type": "code",
   "execution_count": 77,
   "metadata": {
    "colab": {
     "base_uri": "https://localhost:8080/",
     "height": 265
    },
    "executionInfo": {
     "elapsed": 266,
     "status": "ok",
     "timestamp": 1631141228142,
     "user": {
      "displayName": "Fernando Alves da Silva",
      "photoUrl": "https://lh3.googleusercontent.com/a-/AOh14GhKTiasYPw6kBHmMeB6q80p-_rAc2K4AVgs6vVCFA=s64",
      "userId": "04389003071277076505"
     },
     "user_tz": 180
    },
    "id": "fBsT9MhllTD1",
    "outputId": "a71e7e49-4cce-45f3-a0be-ba3a2eb2cab7"
   },
   "outputs": [
    {
     "data": {
      "image/png": "[encoded data removed]",
      "text/plain": [
       "<Figure size 432x288 with 1 Axes>"
      ]
     },
     "metadata": {
      "needs_background": "light"
     },
     "output_type": "display_data"
    }
   ],
   "source": [
    "#Gráfico de barras horizontais\n",
    "df['LojaID'].value_counts(ascending=True).plot.barh();"
   ]
  },
  {
   "cell_type": "code",
   "execution_count": 69,
   "metadata": {
    "colab": {
     "base_uri": "https://localhost:8080/",
     "height": 265
    },
    "executionInfo": {
     "elapsed": 293,
     "status": "ok",
     "timestamp": 1631140899879,
     "user": {
      "displayName": "Fernando Alves da Silva",
      "photoUrl": "https://lh3.googleusercontent.com/a-/AOh14GhKTiasYPw6kBHmMeB6q80p-_rAc2K4AVgs6vVCFA=s64",
      "userId": "04389003071277076505"
     },
     "user_tz": 180
    },
    "id": "z9UtPnidkMw8",
    "outputId": "a5782a04-9481-46c1-b683-dc91acb87b7e"
   },
   "outputs": [
    {
     "data": {
      "text/plain": [
       "<matplotlib.axes._subplots.AxesSubplot at 0x7f318da96590>"
      ]
     },
     "execution_count": 69,
     "metadata": {},
     "output_type": "execute_result"
    },
    {
     "data": {
      "image/png": "[encoded data removed]",
      "text/plain": [
       "<Figure size 432x288 with 1 Axes>"
      ]
     },
     "metadata": {},
     "output_type": "display_data"
    }
   ],
   "source": [
    "}#Gráfico de Pizza\n",
    "df.groupby(df['Data'].dt.year)['Receita'].sum().plot.pie()"
   ]
  },
  {
   "cell_type": "code",
   "execution_count": 70,
   "metadata": {
    "colab": {
     "base_uri": "https://localhost:8080/"
    },
    "executionInfo": {
     "elapsed": 229,
     "status": "ok",
     "timestamp": 1631140932118,
     "user": {
      "displayName": "Fernando Alves da Silva",
      "photoUrl": "https://lh3.googleusercontent.com/a-/AOh14GhKTiasYPw6kBHmMeB6q80p-_rAc2K4AVgs6vVCFA=s64",
      "userId": "04389003071277076505"
     },
     "user_tz": 180
    },
    "id": "cTnowNYDkQ0k",
    "outputId": "254f6bf1-161b-49fd-d8ef-37f33f69e004"
   },
   "outputs": [
    {
     "data": {
      "text/plain": [
       "Natal        240\n",
       "Salvador     240\n",
       "Recife       142\n",
       "Fortaleza    142\n",
       "Aracaju      130\n",
       "Name: Cidade, dtype: int64"
      ]
     },
     "execution_count": 70,
     "metadata": {},
     "output_type": "execute_result"
    }
   ],
   "source": [
    "#Total vendas por cidade\n",
    "df['Cidade'].value_counts()"
   ]
  },
  {
   "cell_type": "code",
   "execution_count": 79,
   "metadata": {
    "colab": {
     "base_uri": "https://localhost:8080/",
     "height": 331
    },
    "executionInfo": {
     "elapsed": 261,
     "status": "ok",
     "timestamp": 1631141417723,
     "user": {
      "displayName": "Fernando Alves da Silva",
      "photoUrl": "https://lh3.googleusercontent.com/a-/AOh14GhKTiasYPw6kBHmMeB6q80p-_rAc2K4AVgs6vVCFA=s64",
      "userId": "04389003071277076505"
     },
     "user_tz": 180
    },
    "id": "-dUp3oTWk2ed",
    "outputId": "b4edef94-82a2-4802-9338-4ec330d53ab0"
   },
   "outputs": [
    {
     "data": {
      "image/png": "[encoded data removed]",
      "text/plain": [
       "<Figure size 432x288 with 1 Axes>"
      ]
     },
     "metadata": {
      "needs_background": "light"
     },
     "output_type": "display_data"
    }
   ],
   "source": [
    "#Adicionando um título e alterando o nome dos eixos\n",
    "import matplotlib.pyplot as plt\n",
    "df['Cidade'].value_counts().plot.bar(title=\"Total vendas por Cidade\")\n",
    "plt.xlabel('Cidade')\n",
    "plt.ylabel('Total Vendas');"
   ]
  },
  {
   "cell_type": "code",
   "execution_count": 80,
   "metadata": {
    "colab": {
     "base_uri": "https://localhost:8080/",
     "height": 331
    },
    "executionInfo": {
     "elapsed": 531,
     "status": "ok",
     "timestamp": 1631141467208,
     "user": {
      "displayName": "Fernando Alves da Silva",
      "photoUrl": "https://lh3.googleusercontent.com/a-/AOh14GhKTiasYPw6kBHmMeB6q80p-_rAc2K4AVgs6vVCFA=s64",
      "userId": "04389003071277076505"
     },
     "user_tz": 180
    },
    "id": "q4PgQJyxmoXB",
    "outputId": "022810fd-2575-4190-8e51-72f5545bcf29"
   },
   "outputs": [
    {
     "data": {
      "image/png": "[encoded data removed]",
      "text/plain": [
       "<Figure size 432x288 with 1 Axes>"
      ]
     },
     "metadata": {
      "needs_background": "light"
     },
     "output_type": "display_data"
    }
   ],
   "source": [
    "#Alterando a cor\n",
    "df['Cidade'].value_counts().plot.bar(title=\"Total vendas por Cidade\", color='red')\n",
    "plt.xlabel('Cidade')\n",
    "plt.ylabel('Total Vendas');"
   ]
  },
  {
   "cell_type": "code",
   "execution_count": 81,
   "metadata": {
    "executionInfo": {
     "elapsed": 415,
     "status": "ok",
     "timestamp": 1631141503337,
     "user": {
      "displayName": "Fernando Alves da Silva",
      "photoUrl": "https://lh3.googleusercontent.com/a-/AOh14GhKTiasYPw6kBHmMeB6q80p-_rAc2K4AVgs6vVCFA=s64",
      "userId": "04389003071277076505"
     },
     "user_tz": 180
    },
    "id": "6TlcGKC7m5BE"
   },
   "outputs": [],
   "source": [
    "#Alterando o estilo\n",
    "plt.style.use('ggplot')"
   ]
  },
  {
   "cell_type": "code",
   "execution_count": 88,
   "metadata": {
    "colab": {
     "base_uri": "https://localhost:8080/",
     "height": 299
    },
    "executionInfo": {
     "elapsed": 413,
     "status": "ok",
     "timestamp": 1631142018056,
     "user": {
      "displayName": "Fernando Alves da Silva",
      "photoUrl": "https://lh3.googleusercontent.com/a-/AOh14GhKTiasYPw6kBHmMeB6q80p-_rAc2K4AVgs6vVCFA=s64",
      "userId": "04389003071277076505"
     },
     "user_tz": 180
    },
    "id": "enpSH27_nB2m",
    "outputId": "9bb629b7-6e42-438c-f1ef-acf2e9bee918"
   },
   "outputs": [
    {
     "data": {
      "image/png": "[encoded data removed]",
      "text/plain": [
       "<Figure size 432x288 with 1 Axes>"
      ]
     },
     "metadata": {},
     "output_type": "display_data"
    }
   ],
   "source": [
    "df.groupby(df['mes_venda'])['Qtde'].sum().plot(title = \"Total Produtos vendidos x mês\")\n",
    "plt.xlabel('Mês')\n",
    "plt.ylabel('Total Produtos vendidos');\n",
    "plt.legend();"
   ]
  },
  {
   "cell_type": "code",
   "execution_count": 85,
   "metadata": {
    "colab": {
     "base_uri": "https://localhost:8080/"
    },
    "executionInfo": {
     "elapsed": 236,
     "status": "ok",
     "timestamp": 1631141759250,
     "user": {
      "displayName": "Fernando Alves da Silva",
      "photoUrl": "https://lh3.googleusercontent.com/a-/AOh14GhKTiasYPw6kBHmMeB6q80p-_rAc2K4AVgs6vVCFA=s64",
      "userId": "04389003071277076505"
     },
     "user_tz": 180
    },
    "id": "A00JdVEvnsiw",
    "outputId": "1435cbda-721e-4666-91a4-62cd4fb35e11"
   },
   "outputs": [
    {
     "data": {
      "text/plain": [
       "mes_venda\n",
       "1     2208\n",
       "2      144\n",
       "3      467\n",
       "4       23\n",
       "5       17\n",
       "6       13\n",
       "7       13\n",
       "8        2\n",
       "9       10\n",
       "10      14\n",
       "11       2\n",
       "12       3\n",
       "Name: Qtde, dtype: int64"
      ]
     },
     "execution_count": 85,
     "metadata": {},
     "output_type": "execute_result"
    }
   ],
   "source": [
    "df.groupby(df['mes_venda'])['Qtde'].sum()"
   ]
  },
  {
   "cell_type": "code",
   "execution_count": 86,
   "metadata": {
    "executionInfo": {
     "elapsed": 410,
     "status": "ok",
     "timestamp": 1631141813613,
     "user": {
      "displayName": "Fernando Alves da Silva",
      "photoUrl": "https://lh3.googleusercontent.com/a-/AOh14GhKTiasYPw6kBHmMeB6q80p-_rAc2K4AVgs6vVCFA=s64",
      "userId": "04389003071277076505"
     },
     "user_tz": 180
    },
    "id": "EK6cs6ujoAZ0"
   },
   "outputs": [],
   "source": [
    "#Selecionando apenas as vendas de 2019\n",
    "df_2019 = df[df['Ano_Venda'] == 2019]\n",
    "\n"
   ]
  },
  {
   "cell_type": "code",
   "execution_count": 90,
   "metadata": {
    "colab": {
     "base_uri": "https://localhost:8080/",
     "height": 301
    },
    "executionInfo": {
     "elapsed": 419,
     "status": "ok",
     "timestamp": 1631142125541,
     "user": {
      "displayName": "Fernando Alves da Silva",
      "photoUrl": "https://lh3.googleusercontent.com/a-/AOh14GhKTiasYPw6kBHmMeB6q80p-_rAc2K4AVgs6vVCFA=s64",
      "userId": "04389003071277076505"
     },
     "user_tz": 180
    },
    "id": "vvNYUJeJoNnA",
    "outputId": "62e46a16-6285-4af0-e050-0b2df8b9a4cd"
   },
   "outputs": [
    {
     "data": {
      "text/plain": [
       "<matplotlib.legend.Legend at 0x7f318cc98f50>"
      ]
     },
     "execution_count": 90,
     "metadata": {},
     "output_type": "execute_result"
    },
    {
     "data": {
      "image/png": "[encoded data removed]",
      "text/plain": [
       "<Figure size 432x288 with 1 Axes>"
      ]
     },
     "metadata": {},
     "output_type": "display_data"
    }
   ],
   "source": [
    "#Total produtos vendidos por mês\n",
    "df_2019.groupby(df_2019['mes_venda'])['Qtde'].sum().plot(marker = \"v\")\n",
    "plt.xlabel('Mês')\n",
    "plt.ylabel('Total Produtos vendidos')\n",
    "plt.legend()\n"
   ]
  },
  {
   "cell_type": "code",
   "execution_count": 94,
   "metadata": {
    "colab": {
     "base_uri": "https://localhost:8080/",
     "height": 265
    },
    "executionInfo": {
     "elapsed": 254,
     "status": "ok",
     "timestamp": 1631142357128,
     "user": {
      "displayName": "Fernando Alves da Silva",
      "photoUrl": "https://lh3.googleusercontent.com/a-/AOh14GhKTiasYPw6kBHmMeB6q80p-_rAc2K4AVgs6vVCFA=s64",
      "userId": "04389003071277076505"
     },
     "user_tz": 180
    },
    "id": "oTm_fMGWpYIC",
    "outputId": "d0c616c9-348c-4427-fcb8-2834927bbcf5"
   },
   "outputs": [
    {
     "data": {
      "image/png": "[encoded data removed]",
      "text/plain": [
       "<Figure size 432x288 with 1 Axes>"
      ]
     },
     "metadata": {},
     "output_type": "display_data"
    }
   ],
   "source": [
    "#Histograma\n",
    "plt.hist(df['Qtde'], color='orangered');"
   ]
  },
  {
   "cell_type": "code",
   "execution_count": 93,
   "metadata": {
    "colab": {
     "base_uri": "https://localhost:8080/",
     "height": 265
    },
    "executionInfo": {
     "elapsed": 291,
     "status": "ok",
     "timestamp": 1631142222167,
     "user": {
      "displayName": "Fernando Alves da Silva",
      "photoUrl": "https://lh3.googleusercontent.com/a-/AOh14GhKTiasYPw6kBHmMeB6q80p-_rAc2K4AVgs6vVCFA=s64",
      "userId": "04389003071277076505"
     },
     "user_tz": 180
    },
    "id": "OAteLZNnplS2",
    "outputId": "a0b1bd93-b251-4ceb-89e0-83a8963c1a59"
   },
   "outputs": [
    {
     "data": {
      "image/png": "[encoded data removed]",
      "text/plain": [
       "<Figure size 432x288 with 1 Axes>"
      ]
     },
     "metadata": {},
     "output_type": "display_data"
    }
   ],
   "source": [
    "plt.scatter(x=df_2019['dia_venda'], y = df_2019['Receita']);"
   ]
  },
  {
   "cell_type": "code",
   "execution_count": 95,
   "metadata": {
    "colab": {
     "base_uri": "https://localhost:8080/",
     "height": 300
    },
    "executionInfo": {
     "elapsed": 838,
     "status": "ok",
     "timestamp": 1631142518713,
     "user": {
      "displayName": "Fernando Alves da Silva",
      "photoUrl": "https://lh3.googleusercontent.com/a-/AOh14GhKTiasYPw6kBHmMeB6q80p-_rAc2K4AVgs6vVCFA=s64",
      "userId": "04389003071277076505"
     },
     "user_tz": 180
    },
    "id": "qBXw_Ri3pxaV",
    "outputId": "1b9ce08c-5212-473b-d076-cf6770d6088f"
   },
   "outputs": [
    {
     "data": {
      "image/png": "[encoded data removed]",
      "text/plain": [
       "<Figure size 432x288 with 1 Axes>"
      ]
     },
     "metadata": {},
     "output_type": "display_data"
    }
   ],
   "source": [
    "#Salvando em png\n",
    "df_2019.groupby(df_2019['mes_venda'])['Qtde'].sum().plot(marker = 'v')\n",
    "plt.title('Quantidade de produtos vendidos x mês')\n",
    "plt.xlabel('Mês')\n",
    "plt.ylabel('Total Produtos Vendidos');\n",
    "plt.legend()\n",
    "plt.savefig('grafico QTDE x MES.png')\n"
   ]
  },
  {
   "cell_type": "code",
   "execution_count": null,
   "metadata": {
    "id": "rX7_m2esq5q_"
   },
   "outputs": [],
   "source": []
  }
 ],
 "metadata": {
  "colab": {
   "authorship_tag": "ABX9TyPxREwDUpDLE53V0bU1YOwv",
   "name": "Pandas_Aula5.ipynb",
   "provenance": []
  },
  "kernelspec": {
   "display_name": "Python 3 (ipykernel)",
   "language": "python",
   "name": "python3"
  },
  "language_info": {
   "codemirror_mode": {
    "name": "ipython",
    "version": 3
   },
   "file_extension": ".py",
   "mimetype": "text/x-python",
   "name": "python",
   "nbconvert_exporter": "python",
   "pygments_lexer": "ipython3",
   "version": "3.8.8"
  }
 },
 "nbformat": 4,
 "nbformat_minor": 4
}
